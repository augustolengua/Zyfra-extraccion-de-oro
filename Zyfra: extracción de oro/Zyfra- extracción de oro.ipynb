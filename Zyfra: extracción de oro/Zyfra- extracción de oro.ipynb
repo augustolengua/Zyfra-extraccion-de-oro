{
 "cells": [
  {
   "cell_type": "markdown",
   "metadata": {},
   "source": [
    "# Descripción del proyecto"
   ]
  },
  {
   "cell_type": "markdown",
   "metadata": {},
   "source": [
    "La finalidad del proyecto es preparar un prototipo de un modelo de machine learning para Zyfra. La empresa desarrolla soluciones de eficiencia para la industria pesada.\n",
    "\n",
    "El modelo debe predecir la cantidad de oro extraído del mineral de oro. El modelo ayudará a optimizar la producción y a eliminar los parámetros no rentables. Se dispone de los datos de extracción y purificación. \n"
   ]
  },
  {
   "cell_type": "markdown",
   "metadata": {},
   "source": [
    "## Información general"
   ]
  },
  {
   "cell_type": "markdown",
   "metadata": {},
   "source": [
    "### Inicialización"
   ]
  },
  {
   "cell_type": "markdown",
   "metadata": {},
   "source": [
    "Importamos las librerías necesarias."
   ]
  },
  {
   "cell_type": "code",
   "execution_count": 45,
   "metadata": {},
   "outputs": [],
   "source": [
    "import pandas as pd\n",
    "import numpy as np\n",
    "from sklearn.metrics import mean_absolute_error\n",
    "import seaborn as sns\n",
    "import matplotlib.pyplot as plt\n",
    "from sklearn.preprocessing import StandardScaler\n",
    "from sklearn.model_selection import train_test_split\n",
    "from sklearn.linear_model import LinearRegression\n",
    "from sklearn.tree import DecisionTreeRegressor\n",
    "from sklearn.ensemble import RandomForestRegressor\n",
    "import matplotlib.pyplot as plt\n",
    "from sklearn.model_selection import cross_val_score"
   ]
  },
  {
   "cell_type": "markdown",
   "metadata": {},
   "source": [
    "Leemos tres datasets: gold_train (conjunto de entrenamiento), gold_test (conjunto de prueba) y gold_full (contiene los conjuntos de entrenamiento y prueba con todas las características). "
   ]
  },
  {
   "cell_type": "markdown",
   "metadata": {},
   "source": [
    "Los datos contiene información acerca de los procesos tecnológicos en la extracción del oro, parámetros y el elemento que se mide. \n",
    "\n",
    "Los procesos tecnológicos son:\n",
    "- Rougher feed — materia prima\n",
    "- Rougher additions (o adiciones de reactivos) - reactivos de flotación: xantato, sulfato, depresante.\n",
    "- Depresante — silicato de sodio\n",
    "- Rougher process — flotación\n",
    "- Rougher tails — residuos del producto\n",
    "- Float banks — instalación de flotación\n",
    "- Cleaner process — purificación\n",
    "- Rougher Au — concentrado de oro rougher\n",
    "- Final Au — concentrado de oro final\n",
    "\n",
    "Los parámetros de las etapas son:\n",
    "- air amount — volumen de aire\n",
    "- fluid levels\n",
    "- feed size — tamaño de las partículas de la alimentación\n",
    "- feed rate\n",
    "\n",
    "Los elementos que se encuentran en el proceso son Oro, Plata y Plomo, además de los datos de la solución entera."
   ]
  },
  {
   "cell_type": "markdown",
   "metadata": {},
   "source": [
    "Leemos los datos del conjunto de entrenamiento."
   ]
  },
  {
   "cell_type": "code",
   "execution_count": 46,
   "metadata": {},
   "outputs": [
    {
     "name": "stdout",
     "output_type": "stream",
     "text": [
      "<class 'pandas.core.frame.DataFrame'>\n",
      "RangeIndex: 16860 entries, 0 to 16859\n",
      "Data columns (total 87 columns):\n",
      " #   Column                                              Non-Null Count  Dtype  \n",
      "---  ------                                              --------------  -----  \n",
      " 0   date                                                16860 non-null  object \n",
      " 1   final.output.concentrate_ag                         16788 non-null  float64\n",
      " 2   final.output.concentrate_pb                         16788 non-null  float64\n",
      " 3   final.output.concentrate_sol                        16490 non-null  float64\n",
      " 4   final.output.concentrate_au                         16789 non-null  float64\n",
      " 5   final.output.recovery                               15339 non-null  float64\n",
      " 6   final.output.tail_ag                                16794 non-null  float64\n",
      " 7   final.output.tail_pb                                16677 non-null  float64\n",
      " 8   final.output.tail_sol                               16715 non-null  float64\n",
      " 9   final.output.tail_au                                16794 non-null  float64\n",
      " 10  primary_cleaner.input.sulfate                       15553 non-null  float64\n",
      " 11  primary_cleaner.input.depressant                    15598 non-null  float64\n",
      " 12  primary_cleaner.input.feed_size                     16860 non-null  float64\n",
      " 13  primary_cleaner.input.xanthate                      15875 non-null  float64\n",
      " 14  primary_cleaner.output.concentrate_ag               16778 non-null  float64\n",
      " 15  primary_cleaner.output.concentrate_pb               16502 non-null  float64\n",
      " 16  primary_cleaner.output.concentrate_sol              16224 non-null  float64\n",
      " 17  primary_cleaner.output.concentrate_au               16778 non-null  float64\n",
      " 18  primary_cleaner.output.tail_ag                      16777 non-null  float64\n",
      " 19  primary_cleaner.output.tail_pb                      16761 non-null  float64\n",
      " 20  primary_cleaner.output.tail_sol                     16579 non-null  float64\n",
      " 21  primary_cleaner.output.tail_au                      16777 non-null  float64\n",
      " 22  primary_cleaner.state.floatbank8_a_air              16820 non-null  float64\n",
      " 23  primary_cleaner.state.floatbank8_a_level            16827 non-null  float64\n",
      " 24  primary_cleaner.state.floatbank8_b_air              16820 non-null  float64\n",
      " 25  primary_cleaner.state.floatbank8_b_level            16833 non-null  float64\n",
      " 26  primary_cleaner.state.floatbank8_c_air              16822 non-null  float64\n",
      " 27  primary_cleaner.state.floatbank8_c_level            16833 non-null  float64\n",
      " 28  primary_cleaner.state.floatbank8_d_air              16821 non-null  float64\n",
      " 29  primary_cleaner.state.floatbank8_d_level            16833 non-null  float64\n",
      " 30  rougher.calculation.sulfate_to_au_concentrate       16833 non-null  float64\n",
      " 31  rougher.calculation.floatbank10_sulfate_to_au_feed  16833 non-null  float64\n",
      " 32  rougher.calculation.floatbank11_sulfate_to_au_feed  16833 non-null  float64\n",
      " 33  rougher.calculation.au_pb_ratio                     15618 non-null  float64\n",
      " 34  rougher.input.feed_ag                               16778 non-null  float64\n",
      " 35  rougher.input.feed_pb                               16632 non-null  float64\n",
      " 36  rougher.input.feed_rate                             16347 non-null  float64\n",
      " 37  rougher.input.feed_size                             16443 non-null  float64\n",
      " 38  rougher.input.feed_sol                              16568 non-null  float64\n",
      " 39  rougher.input.feed_au                               16777 non-null  float64\n",
      " 40  rougher.input.floatbank10_sulfate                   15816 non-null  float64\n",
      " 41  rougher.input.floatbank10_xanthate                  16514 non-null  float64\n",
      " 42  rougher.input.floatbank11_sulfate                   16237 non-null  float64\n",
      " 43  rougher.input.floatbank11_xanthate                  14956 non-null  float64\n",
      " 44  rougher.output.concentrate_ag                       16778 non-null  float64\n",
      " 45  rougher.output.concentrate_pb                       16778 non-null  float64\n",
      " 46  rougher.output.concentrate_sol                      16698 non-null  float64\n",
      " 47  rougher.output.concentrate_au                       16778 non-null  float64\n",
      " 48  rougher.output.recovery                             14287 non-null  float64\n",
      " 49  rougher.output.tail_ag                              14610 non-null  float64\n",
      " 50  rougher.output.tail_pb                              16778 non-null  float64\n",
      " 51  rougher.output.tail_sol                             14611 non-null  float64\n",
      " 52  rougher.output.tail_au                              14611 non-null  float64\n",
      " 53  rougher.state.floatbank10_a_air                     16807 non-null  float64\n",
      " 54  rougher.state.floatbank10_a_level                   16807 non-null  float64\n",
      " 55  rougher.state.floatbank10_b_air                     16807 non-null  float64\n",
      " 56  rougher.state.floatbank10_b_level                   16807 non-null  float64\n",
      " 57  rougher.state.floatbank10_c_air                     16807 non-null  float64\n",
      " 58  rougher.state.floatbank10_c_level                   16814 non-null  float64\n",
      " 59  rougher.state.floatbank10_d_air                     16802 non-null  float64\n",
      " 60  rougher.state.floatbank10_d_level                   16809 non-null  float64\n",
      " 61  rougher.state.floatbank10_e_air                     16257 non-null  float64\n",
      " 62  rougher.state.floatbank10_e_level                   16809 non-null  float64\n",
      " 63  rougher.state.floatbank10_f_air                     16802 non-null  float64\n",
      " 64  rougher.state.floatbank10_f_level                   16802 non-null  float64\n",
      " 65  secondary_cleaner.output.tail_ag                    16776 non-null  float64\n",
      " 66  secondary_cleaner.output.tail_pb                    16764 non-null  float64\n",
      " 67  secondary_cleaner.output.tail_sol                   14874 non-null  float64\n",
      " 68  secondary_cleaner.output.tail_au                    16778 non-null  float64\n",
      " 69  secondary_cleaner.state.floatbank2_a_air            16497 non-null  float64\n",
      " 70  secondary_cleaner.state.floatbank2_a_level          16751 non-null  float64\n",
      " 71  secondary_cleaner.state.floatbank2_b_air            16705 non-null  float64\n",
      " 72  secondary_cleaner.state.floatbank2_b_level          16748 non-null  float64\n",
      " 73  secondary_cleaner.state.floatbank3_a_air            16763 non-null  float64\n",
      " 74  secondary_cleaner.state.floatbank3_a_level          16747 non-null  float64\n",
      " 75  secondary_cleaner.state.floatbank3_b_air            16752 non-null  float64\n",
      " 76  secondary_cleaner.state.floatbank3_b_level          16750 non-null  float64\n",
      " 77  secondary_cleaner.state.floatbank4_a_air            16731 non-null  float64\n",
      " 78  secondary_cleaner.state.floatbank4_a_level          16747 non-null  float64\n",
      " 79  secondary_cleaner.state.floatbank4_b_air            16768 non-null  float64\n",
      " 80  secondary_cleaner.state.floatbank4_b_level          16767 non-null  float64\n",
      " 81  secondary_cleaner.state.floatbank5_a_air            16775 non-null  float64\n",
      " 82  secondary_cleaner.state.floatbank5_a_level          16775 non-null  float64\n",
      " 83  secondary_cleaner.state.floatbank5_b_air            16775 non-null  float64\n",
      " 84  secondary_cleaner.state.floatbank5_b_level          16776 non-null  float64\n",
      " 85  secondary_cleaner.state.floatbank6_a_air            16757 non-null  float64\n",
      " 86  secondary_cleaner.state.floatbank6_a_level          16775 non-null  float64\n",
      "dtypes: float64(86), object(1)\n",
      "memory usage: 11.2+ MB\n"
     ]
    }
   ],
   "source": [
    "try:\n",
    "    gold_train=pd.read_csv('gold_recovery_train.csv')\n",
    "except:\n",
    "    gold_train=pd.read_csv('/datasets/gold_recovery_train.csv')\n",
    "gold_train.info()"
   ]
  },
  {
   "cell_type": "markdown",
   "metadata": {},
   "source": [
    "Leemos los datos del conjunto de prueba."
   ]
  },
  {
   "cell_type": "code",
   "execution_count": 47,
   "metadata": {},
   "outputs": [
    {
     "name": "stdout",
     "output_type": "stream",
     "text": [
      "<class 'pandas.core.frame.DataFrame'>\n",
      "RangeIndex: 5856 entries, 0 to 5855\n",
      "Data columns (total 53 columns):\n",
      " #   Column                                      Non-Null Count  Dtype  \n",
      "---  ------                                      --------------  -----  \n",
      " 0   date                                        5856 non-null   object \n",
      " 1   primary_cleaner.input.sulfate               5554 non-null   float64\n",
      " 2   primary_cleaner.input.depressant            5572 non-null   float64\n",
      " 3   primary_cleaner.input.feed_size             5856 non-null   float64\n",
      " 4   primary_cleaner.input.xanthate              5690 non-null   float64\n",
      " 5   primary_cleaner.state.floatbank8_a_air      5840 non-null   float64\n",
      " 6   primary_cleaner.state.floatbank8_a_level    5840 non-null   float64\n",
      " 7   primary_cleaner.state.floatbank8_b_air      5840 non-null   float64\n",
      " 8   primary_cleaner.state.floatbank8_b_level    5840 non-null   float64\n",
      " 9   primary_cleaner.state.floatbank8_c_air      5840 non-null   float64\n",
      " 10  primary_cleaner.state.floatbank8_c_level    5840 non-null   float64\n",
      " 11  primary_cleaner.state.floatbank8_d_air      5840 non-null   float64\n",
      " 12  primary_cleaner.state.floatbank8_d_level    5840 non-null   float64\n",
      " 13  rougher.input.feed_ag                       5840 non-null   float64\n",
      " 14  rougher.input.feed_pb                       5840 non-null   float64\n",
      " 15  rougher.input.feed_rate                     5816 non-null   float64\n",
      " 16  rougher.input.feed_size                     5834 non-null   float64\n",
      " 17  rougher.input.feed_sol                      5789 non-null   float64\n",
      " 18  rougher.input.feed_au                       5840 non-null   float64\n",
      " 19  rougher.input.floatbank10_sulfate           5599 non-null   float64\n",
      " 20  rougher.input.floatbank10_xanthate          5733 non-null   float64\n",
      " 21  rougher.input.floatbank11_sulfate           5801 non-null   float64\n",
      " 22  rougher.input.floatbank11_xanthate          5503 non-null   float64\n",
      " 23  rougher.state.floatbank10_a_air             5839 non-null   float64\n",
      " 24  rougher.state.floatbank10_a_level           5840 non-null   float64\n",
      " 25  rougher.state.floatbank10_b_air             5839 non-null   float64\n",
      " 26  rougher.state.floatbank10_b_level           5840 non-null   float64\n",
      " 27  rougher.state.floatbank10_c_air             5839 non-null   float64\n",
      " 28  rougher.state.floatbank10_c_level           5840 non-null   float64\n",
      " 29  rougher.state.floatbank10_d_air             5839 non-null   float64\n",
      " 30  rougher.state.floatbank10_d_level           5840 non-null   float64\n",
      " 31  rougher.state.floatbank10_e_air             5839 non-null   float64\n",
      " 32  rougher.state.floatbank10_e_level           5840 non-null   float64\n",
      " 33  rougher.state.floatbank10_f_air             5839 non-null   float64\n",
      " 34  rougher.state.floatbank10_f_level           5840 non-null   float64\n",
      " 35  secondary_cleaner.state.floatbank2_a_air    5836 non-null   float64\n",
      " 36  secondary_cleaner.state.floatbank2_a_level  5840 non-null   float64\n",
      " 37  secondary_cleaner.state.floatbank2_b_air    5833 non-null   float64\n",
      " 38  secondary_cleaner.state.floatbank2_b_level  5840 non-null   float64\n",
      " 39  secondary_cleaner.state.floatbank3_a_air    5822 non-null   float64\n",
      " 40  secondary_cleaner.state.floatbank3_a_level  5840 non-null   float64\n",
      " 41  secondary_cleaner.state.floatbank3_b_air    5840 non-null   float64\n",
      " 42  secondary_cleaner.state.floatbank3_b_level  5840 non-null   float64\n",
      " 43  secondary_cleaner.state.floatbank4_a_air    5840 non-null   float64\n",
      " 44  secondary_cleaner.state.floatbank4_a_level  5840 non-null   float64\n",
      " 45  secondary_cleaner.state.floatbank4_b_air    5840 non-null   float64\n",
      " 46  secondary_cleaner.state.floatbank4_b_level  5840 non-null   float64\n",
      " 47  secondary_cleaner.state.floatbank5_a_air    5840 non-null   float64\n",
      " 48  secondary_cleaner.state.floatbank5_a_level  5840 non-null   float64\n",
      " 49  secondary_cleaner.state.floatbank5_b_air    5840 non-null   float64\n",
      " 50  secondary_cleaner.state.floatbank5_b_level  5840 non-null   float64\n",
      " 51  secondary_cleaner.state.floatbank6_a_air    5840 non-null   float64\n",
      " 52  secondary_cleaner.state.floatbank6_a_level  5840 non-null   float64\n",
      "dtypes: float64(52), object(1)\n",
      "memory usage: 2.4+ MB\n"
     ]
    }
   ],
   "source": [
    "try:\n",
    "    gold_test=pd.read_csv('gold_recovery_test.csv')\n",
    "except:\n",
    "    gold_test=pd.read_csv('/datasets/gold_recovery_test.csv')\n",
    "gold_test.info()"
   ]
  },
  {
   "cell_type": "markdown",
   "metadata": {},
   "source": [
    "Leemos los datos del conjunto total."
   ]
  },
  {
   "cell_type": "code",
   "execution_count": 48,
   "metadata": {},
   "outputs": [
    {
     "name": "stdout",
     "output_type": "stream",
     "text": [
      "<class 'pandas.core.frame.DataFrame'>\n",
      "RangeIndex: 22716 entries, 0 to 22715\n",
      "Data columns (total 87 columns):\n",
      " #   Column                                              Non-Null Count  Dtype  \n",
      "---  ------                                              --------------  -----  \n",
      " 0   date                                                22716 non-null  object \n",
      " 1   final.output.concentrate_ag                         22627 non-null  float64\n",
      " 2   final.output.concentrate_pb                         22629 non-null  float64\n",
      " 3   final.output.concentrate_sol                        22331 non-null  float64\n",
      " 4   final.output.concentrate_au                         22630 non-null  float64\n",
      " 5   final.output.recovery                               20753 non-null  float64\n",
      " 6   final.output.tail_ag                                22633 non-null  float64\n",
      " 7   final.output.tail_pb                                22516 non-null  float64\n",
      " 8   final.output.tail_sol                               22445 non-null  float64\n",
      " 9   final.output.tail_au                                22635 non-null  float64\n",
      " 10  primary_cleaner.input.sulfate                       21107 non-null  float64\n",
      " 11  primary_cleaner.input.depressant                    21170 non-null  float64\n",
      " 12  primary_cleaner.input.feed_size                     22716 non-null  float64\n",
      " 13  primary_cleaner.input.xanthate                      21565 non-null  float64\n",
      " 14  primary_cleaner.output.concentrate_ag               22618 non-null  float64\n",
      " 15  primary_cleaner.output.concentrate_pb               22268 non-null  float64\n",
      " 16  primary_cleaner.output.concentrate_sol              21918 non-null  float64\n",
      " 17  primary_cleaner.output.concentrate_au               22618 non-null  float64\n",
      " 18  primary_cleaner.output.tail_ag                      22614 non-null  float64\n",
      " 19  primary_cleaner.output.tail_pb                      22594 non-null  float64\n",
      " 20  primary_cleaner.output.tail_sol                     22365 non-null  float64\n",
      " 21  primary_cleaner.output.tail_au                      22617 non-null  float64\n",
      " 22  primary_cleaner.state.floatbank8_a_air              22660 non-null  float64\n",
      " 23  primary_cleaner.state.floatbank8_a_level            22667 non-null  float64\n",
      " 24  primary_cleaner.state.floatbank8_b_air              22660 non-null  float64\n",
      " 25  primary_cleaner.state.floatbank8_b_level            22673 non-null  float64\n",
      " 26  primary_cleaner.state.floatbank8_c_air              22662 non-null  float64\n",
      " 27  primary_cleaner.state.floatbank8_c_level            22673 non-null  float64\n",
      " 28  primary_cleaner.state.floatbank8_d_air              22661 non-null  float64\n",
      " 29  primary_cleaner.state.floatbank8_d_level            22673 non-null  float64\n",
      " 30  rougher.calculation.sulfate_to_au_concentrate       22672 non-null  float64\n",
      " 31  rougher.calculation.floatbank10_sulfate_to_au_feed  22672 non-null  float64\n",
      " 32  rougher.calculation.floatbank11_sulfate_to_au_feed  22672 non-null  float64\n",
      " 33  rougher.calculation.au_pb_ratio                     21089 non-null  float64\n",
      " 34  rougher.input.feed_ag                               22618 non-null  float64\n",
      " 35  rougher.input.feed_pb                               22472 non-null  float64\n",
      " 36  rougher.input.feed_rate                             22163 non-null  float64\n",
      " 37  rougher.input.feed_size                             22277 non-null  float64\n",
      " 38  rougher.input.feed_sol                              22357 non-null  float64\n",
      " 39  rougher.input.feed_au                               22617 non-null  float64\n",
      " 40  rougher.input.floatbank10_sulfate                   21415 non-null  float64\n",
      " 41  rougher.input.floatbank10_xanthate                  22247 non-null  float64\n",
      " 42  rougher.input.floatbank11_sulfate                   22038 non-null  float64\n",
      " 43  rougher.input.floatbank11_xanthate                  20459 non-null  float64\n",
      " 44  rougher.output.concentrate_ag                       22618 non-null  float64\n",
      " 45  rougher.output.concentrate_pb                       22618 non-null  float64\n",
      " 46  rougher.output.concentrate_sol                      22526 non-null  float64\n",
      " 47  rougher.output.concentrate_au                       22618 non-null  float64\n",
      " 48  rougher.output.recovery                             19597 non-null  float64\n",
      " 49  rougher.output.tail_ag                              19979 non-null  float64\n",
      " 50  rougher.output.tail_pb                              22618 non-null  float64\n",
      " 51  rougher.output.tail_sol                             19980 non-null  float64\n",
      " 52  rougher.output.tail_au                              19980 non-null  float64\n",
      " 53  rougher.state.floatbank10_a_air                     22646 non-null  float64\n",
      " 54  rougher.state.floatbank10_a_level                   22647 non-null  float64\n",
      " 55  rougher.state.floatbank10_b_air                     22646 non-null  float64\n",
      " 56  rougher.state.floatbank10_b_level                   22647 non-null  float64\n",
      " 57  rougher.state.floatbank10_c_air                     22646 non-null  float64\n",
      " 58  rougher.state.floatbank10_c_level                   22654 non-null  float64\n",
      " 59  rougher.state.floatbank10_d_air                     22641 non-null  float64\n",
      " 60  rougher.state.floatbank10_d_level                   22649 non-null  float64\n",
      " 61  rougher.state.floatbank10_e_air                     22096 non-null  float64\n",
      " 62  rougher.state.floatbank10_e_level                   22649 non-null  float64\n",
      " 63  rougher.state.floatbank10_f_air                     22641 non-null  float64\n",
      " 64  rougher.state.floatbank10_f_level                   22642 non-null  float64\n",
      " 65  secondary_cleaner.output.tail_ag                    22616 non-null  float64\n",
      " 66  secondary_cleaner.output.tail_pb                    22600 non-null  float64\n",
      " 67  secondary_cleaner.output.tail_sol                   20501 non-null  float64\n",
      " 68  secondary_cleaner.output.tail_au                    22618 non-null  float64\n",
      " 69  secondary_cleaner.state.floatbank2_a_air            22333 non-null  float64\n",
      " 70  secondary_cleaner.state.floatbank2_a_level          22591 non-null  float64\n",
      " 71  secondary_cleaner.state.floatbank2_b_air            22538 non-null  float64\n",
      " 72  secondary_cleaner.state.floatbank2_b_level          22588 non-null  float64\n",
      " 73  secondary_cleaner.state.floatbank3_a_air            22585 non-null  float64\n",
      " 74  secondary_cleaner.state.floatbank3_a_level          22587 non-null  float64\n",
      " 75  secondary_cleaner.state.floatbank3_b_air            22592 non-null  float64\n",
      " 76  secondary_cleaner.state.floatbank3_b_level          22590 non-null  float64\n",
      " 77  secondary_cleaner.state.floatbank4_a_air            22571 non-null  float64\n",
      " 78  secondary_cleaner.state.floatbank4_a_level          22587 non-null  float64\n",
      " 79  secondary_cleaner.state.floatbank4_b_air            22608 non-null  float64\n",
      " 80  secondary_cleaner.state.floatbank4_b_level          22607 non-null  float64\n",
      " 81  secondary_cleaner.state.floatbank5_a_air            22615 non-null  float64\n",
      " 82  secondary_cleaner.state.floatbank5_a_level          22615 non-null  float64\n",
      " 83  secondary_cleaner.state.floatbank5_b_air            22615 non-null  float64\n",
      " 84  secondary_cleaner.state.floatbank5_b_level          22616 non-null  float64\n",
      " 85  secondary_cleaner.state.floatbank6_a_air            22597 non-null  float64\n",
      " 86  secondary_cleaner.state.floatbank6_a_level          22615 non-null  float64\n",
      "dtypes: float64(86), object(1)\n",
      "memory usage: 15.1+ MB\n"
     ]
    }
   ],
   "source": [
    "try:\n",
    "    gold_full=pd.read_csv('gold_recovery_full.csv')\n",
    "except:\n",
    "    gold_full=pd.read_csv('/datasets/gold_recovery_full.csv')\n",
    "gold_full.info()"
   ]
  },
  {
   "cell_type": "markdown",
   "metadata": {},
   "source": [
    "### Preprocesamiento"
   ]
  },
  {
   "cell_type": "markdown",
   "metadata": {},
   "source": [
    "Comprobamos que el cálculo de la recuperación de la característica rougher.output.recovery mediante el conjunto de entrenamiento sea correcto."
   ]
  },
  {
   "cell_type": "markdown",
   "metadata": {},
   "source": [
    "Eliminamos los valores nulos en 'gold_train'."
   ]
  },
  {
   "cell_type": "code",
   "execution_count": 49,
   "metadata": {},
   "outputs": [],
   "source": [
    "gold_train=gold_train.dropna()"
   ]
  },
  {
   "cell_type": "markdown",
   "metadata": {},
   "source": [
    "Realizamos el cálculo de recuperación de acuerdo con la fórmula:\n",
    "\n",
    "$$Recuperación = \\frac{C \\times (F-T)}{F \\times (C-T)} \\times 100  $$"
   ]
  },
  {
   "cell_type": "code",
   "execution_count": 50,
   "metadata": {},
   "outputs": [
    {
     "data": {
      "text/plain": [
       "0        87.107763\n",
       "1        86.843261\n",
       "2        86.842308\n",
       "3        87.226430\n",
       "4        86.688794\n",
       "           ...    \n",
       "16855    89.574376\n",
       "16856    87.724007\n",
       "16857    88.890579\n",
       "16858    89.858126\n",
       "16859    89.514960\n",
       "Length: 11017, dtype: float64"
      ]
     },
     "execution_count": 50,
     "metadata": {},
     "output_type": "execute_result"
    }
   ],
   "source": [
    "C=gold_train['rougher.output.concentrate_au']\n",
    "F=gold_train['rougher.input.feed_au']\n",
    "T=gold_train['rougher.output.tail_au']\n",
    "\n",
    "recuperacion=100*C*(F-T)/(F*(C-T))\n",
    "recuperacion"
   ]
  },
  {
   "cell_type": "markdown",
   "metadata": {},
   "source": [
    "Evaluamos mediante el EAM los cálculos realizados del valor de recuperacion y los valores de la característica."
   ]
  },
  {
   "cell_type": "code",
   "execution_count": 51,
   "metadata": {},
   "outputs": [
    {
     "name": "stdout",
     "output_type": "stream",
     "text": [
      "EAM: 1.1235694834961156e-14\n"
     ]
    }
   ],
   "source": [
    "print('EAM:',mean_absolute_error(gold_train['rougher.output.recovery'],recuperacion))"
   ]
  },
  {
   "cell_type": "markdown",
   "metadata": {},
   "source": [
    "De acuerdo con la notación científica, este valor podría ser considerado como 0."
   ]
  },
  {
   "cell_type": "markdown",
   "metadata": {},
   "source": [
    "Analizamos las características no disponibles en el conjunto de prueba."
   ]
  },
  {
   "cell_type": "code",
   "execution_count": 52,
   "metadata": {
    "scrolled": false
   },
   "outputs": [
    {
     "data": {
      "text/plain": [
       "((11017, 87), (5856, 53))"
      ]
     },
     "execution_count": 52,
     "metadata": {},
     "output_type": "execute_result"
    }
   ],
   "source": [
    "gold_train.shape, gold_test.shape"
   ]
  },
  {
   "cell_type": "code",
   "execution_count": 53,
   "metadata": {
    "scrolled": true
   },
   "outputs": [
    {
     "data": {
      "text/plain": [
       "{'final.output.concentrate_ag',\n",
       " 'final.output.concentrate_au',\n",
       " 'final.output.concentrate_pb',\n",
       " 'final.output.concentrate_sol',\n",
       " 'final.output.recovery',\n",
       " 'final.output.tail_ag',\n",
       " 'final.output.tail_au',\n",
       " 'final.output.tail_pb',\n",
       " 'final.output.tail_sol',\n",
       " 'primary_cleaner.output.concentrate_ag',\n",
       " 'primary_cleaner.output.concentrate_au',\n",
       " 'primary_cleaner.output.concentrate_pb',\n",
       " 'primary_cleaner.output.concentrate_sol',\n",
       " 'primary_cleaner.output.tail_ag',\n",
       " 'primary_cleaner.output.tail_au',\n",
       " 'primary_cleaner.output.tail_pb',\n",
       " 'primary_cleaner.output.tail_sol',\n",
       " 'rougher.calculation.au_pb_ratio',\n",
       " 'rougher.calculation.floatbank10_sulfate_to_au_feed',\n",
       " 'rougher.calculation.floatbank11_sulfate_to_au_feed',\n",
       " 'rougher.calculation.sulfate_to_au_concentrate',\n",
       " 'rougher.output.concentrate_ag',\n",
       " 'rougher.output.concentrate_au',\n",
       " 'rougher.output.concentrate_pb',\n",
       " 'rougher.output.concentrate_sol',\n",
       " 'rougher.output.recovery',\n",
       " 'rougher.output.tail_ag',\n",
       " 'rougher.output.tail_au',\n",
       " 'rougher.output.tail_pb',\n",
       " 'rougher.output.tail_sol',\n",
       " 'secondary_cleaner.output.tail_ag',\n",
       " 'secondary_cleaner.output.tail_au',\n",
       " 'secondary_cleaner.output.tail_pb',\n",
       " 'secondary_cleaner.output.tail_sol'}"
      ]
     },
     "execution_count": 53,
     "metadata": {},
     "output_type": "execute_result"
    }
   ],
   "source": [
    "set(gold_train.columns)-set(gold_test.columns)"
   ]
  },
  {
   "cell_type": "markdown",
   "metadata": {},
   "source": [
    "Hay 33 columnas faltantes en el conjunto de prueba; sin embargo, no todas son esenciales para el análisis, por lo que solo añadiremos las variables objetivo 'rougher.output.recovery' y 'final.output.recovery' extrayéndolas del conjunto total."
   ]
  },
  {
   "cell_type": "markdown",
   "metadata": {},
   "source": [
    "Seleccionamos las columnas del dataset gold_full guiándonos de la fecha y hora de la muestra."
   ]
  },
  {
   "cell_type": "code",
   "execution_count": 54,
   "metadata": {},
   "outputs": [
    {
     "data": {
      "text/html": [
       "<div>\n",
       "<style scoped>\n",
       "    .dataframe tbody tr th:only-of-type {\n",
       "        vertical-align: middle;\n",
       "    }\n",
       "\n",
       "    .dataframe tbody tr th {\n",
       "        vertical-align: top;\n",
       "    }\n",
       "\n",
       "    .dataframe thead th {\n",
       "        text-align: right;\n",
       "    }\n",
       "</style>\n",
       "<table border=\"1\" class=\"dataframe\">\n",
       "  <thead>\n",
       "    <tr style=\"text-align: right;\">\n",
       "      <th></th>\n",
       "      <th>rougher.output.recovery</th>\n",
       "      <th>final.output.recovery</th>\n",
       "    </tr>\n",
       "  </thead>\n",
       "  <tbody>\n",
       "    <tr>\n",
       "      <th>0</th>\n",
       "      <td>89.993421</td>\n",
       "      <td>70.273583</td>\n",
       "    </tr>\n",
       "    <tr>\n",
       "      <th>1</th>\n",
       "      <td>88.089657</td>\n",
       "      <td>68.910432</td>\n",
       "    </tr>\n",
       "    <tr>\n",
       "      <th>2</th>\n",
       "      <td>88.412756</td>\n",
       "      <td>68.143213</td>\n",
       "    </tr>\n",
       "    <tr>\n",
       "      <th>3</th>\n",
       "      <td>87.360133</td>\n",
       "      <td>67.776393</td>\n",
       "    </tr>\n",
       "    <tr>\n",
       "      <th>4</th>\n",
       "      <td>83.236367</td>\n",
       "      <td>61.467078</td>\n",
       "    </tr>\n",
       "    <tr>\n",
       "      <th>...</th>\n",
       "      <td>...</td>\n",
       "      <td>...</td>\n",
       "    </tr>\n",
       "    <tr>\n",
       "      <th>5851</th>\n",
       "      <td>95.172585</td>\n",
       "      <td>68.919891</td>\n",
       "    </tr>\n",
       "    <tr>\n",
       "      <th>5852</th>\n",
       "      <td>94.575036</td>\n",
       "      <td>68.440582</td>\n",
       "    </tr>\n",
       "    <tr>\n",
       "      <th>5853</th>\n",
       "      <td>93.018138</td>\n",
       "      <td>67.092759</td>\n",
       "    </tr>\n",
       "    <tr>\n",
       "      <th>5854</th>\n",
       "      <td>92.599042</td>\n",
       "      <td>68.061186</td>\n",
       "    </tr>\n",
       "    <tr>\n",
       "      <th>5855</th>\n",
       "      <td>91.177695</td>\n",
       "      <td>71.699976</td>\n",
       "    </tr>\n",
       "  </tbody>\n",
       "</table>\n",
       "<p>5856 rows × 2 columns</p>\n",
       "</div>"
      ],
      "text/plain": [
       "      rougher.output.recovery  final.output.recovery\n",
       "0                   89.993421              70.273583\n",
       "1                   88.089657              68.910432\n",
       "2                   88.412756              68.143213\n",
       "3                   87.360133              67.776393\n",
       "4                   83.236367              61.467078\n",
       "...                       ...                    ...\n",
       "5851                95.172585              68.919891\n",
       "5852                94.575036              68.440582\n",
       "5853                93.018138              67.092759\n",
       "5854                92.599042              68.061186\n",
       "5855                91.177695              71.699976\n",
       "\n",
       "[5856 rows x 2 columns]"
      ]
     },
     "execution_count": 54,
     "metadata": {},
     "output_type": "execute_result"
    }
   ],
   "source": [
    "date_test=gold_test['date']\n",
    "col_test=gold_full.query('date in @date_test')[['rougher.output.recovery','final.output.recovery']]\n",
    "col_test.index=gold_test['date'].index\n",
    "col_test"
   ]
  },
  {
   "cell_type": "markdown",
   "metadata": {},
   "source": [
    "Añadimos las columnas al conjunto de prueba."
   ]
  },
  {
   "cell_type": "code",
   "execution_count": 55,
   "metadata": {},
   "outputs": [
    {
     "data": {
      "text/html": [
       "<div>\n",
       "<style scoped>\n",
       "    .dataframe tbody tr th:only-of-type {\n",
       "        vertical-align: middle;\n",
       "    }\n",
       "\n",
       "    .dataframe tbody tr th {\n",
       "        vertical-align: top;\n",
       "    }\n",
       "\n",
       "    .dataframe thead th {\n",
       "        text-align: right;\n",
       "    }\n",
       "</style>\n",
       "<table border=\"1\" class=\"dataframe\">\n",
       "  <thead>\n",
       "    <tr style=\"text-align: right;\">\n",
       "      <th></th>\n",
       "      <th>primary_cleaner.input.sulfate</th>\n",
       "      <th>primary_cleaner.input.depressant</th>\n",
       "      <th>primary_cleaner.input.feed_size</th>\n",
       "      <th>primary_cleaner.input.xanthate</th>\n",
       "      <th>primary_cleaner.state.floatbank8_a_air</th>\n",
       "      <th>primary_cleaner.state.floatbank8_a_level</th>\n",
       "      <th>primary_cleaner.state.floatbank8_b_air</th>\n",
       "      <th>primary_cleaner.state.floatbank8_b_level</th>\n",
       "      <th>primary_cleaner.state.floatbank8_c_air</th>\n",
       "      <th>primary_cleaner.state.floatbank8_c_level</th>\n",
       "      <th>...</th>\n",
       "      <th>secondary_cleaner.state.floatbank4_b_air</th>\n",
       "      <th>secondary_cleaner.state.floatbank4_b_level</th>\n",
       "      <th>secondary_cleaner.state.floatbank5_a_air</th>\n",
       "      <th>secondary_cleaner.state.floatbank5_a_level</th>\n",
       "      <th>secondary_cleaner.state.floatbank5_b_air</th>\n",
       "      <th>secondary_cleaner.state.floatbank5_b_level</th>\n",
       "      <th>secondary_cleaner.state.floatbank6_a_air</th>\n",
       "      <th>secondary_cleaner.state.floatbank6_a_level</th>\n",
       "      <th>rougher.output.recovery</th>\n",
       "      <th>final.output.recovery</th>\n",
       "    </tr>\n",
       "  </thead>\n",
       "  <tbody>\n",
       "    <tr>\n",
       "      <th>0</th>\n",
       "      <td>210.800909</td>\n",
       "      <td>14.993118</td>\n",
       "      <td>8.080000</td>\n",
       "      <td>1.005021</td>\n",
       "      <td>1398.981301</td>\n",
       "      <td>-500.225577</td>\n",
       "      <td>1399.144926</td>\n",
       "      <td>-499.919735</td>\n",
       "      <td>1400.102998</td>\n",
       "      <td>-500.704369</td>\n",
       "      <td>...</td>\n",
       "      <td>8.016656</td>\n",
       "      <td>-501.289139</td>\n",
       "      <td>7.946562</td>\n",
       "      <td>-432.317850</td>\n",
       "      <td>4.872511</td>\n",
       "      <td>-500.037437</td>\n",
       "      <td>26.705889</td>\n",
       "      <td>-499.709414</td>\n",
       "      <td>89.993421</td>\n",
       "      <td>70.273583</td>\n",
       "    </tr>\n",
       "    <tr>\n",
       "      <th>1</th>\n",
       "      <td>215.392455</td>\n",
       "      <td>14.987471</td>\n",
       "      <td>8.080000</td>\n",
       "      <td>0.990469</td>\n",
       "      <td>1398.777912</td>\n",
       "      <td>-500.057435</td>\n",
       "      <td>1398.055362</td>\n",
       "      <td>-499.778182</td>\n",
       "      <td>1396.151033</td>\n",
       "      <td>-499.240168</td>\n",
       "      <td>...</td>\n",
       "      <td>8.130979</td>\n",
       "      <td>-499.634209</td>\n",
       "      <td>7.958270</td>\n",
       "      <td>-525.839648</td>\n",
       "      <td>4.878850</td>\n",
       "      <td>-500.162375</td>\n",
       "      <td>25.019940</td>\n",
       "      <td>-499.819438</td>\n",
       "      <td>88.089657</td>\n",
       "      <td>68.910432</td>\n",
       "    </tr>\n",
       "    <tr>\n",
       "      <th>2</th>\n",
       "      <td>215.259946</td>\n",
       "      <td>12.884934</td>\n",
       "      <td>7.786667</td>\n",
       "      <td>0.996043</td>\n",
       "      <td>1398.493666</td>\n",
       "      <td>-500.868360</td>\n",
       "      <td>1398.860436</td>\n",
       "      <td>-499.764529</td>\n",
       "      <td>1398.075709</td>\n",
       "      <td>-502.151509</td>\n",
       "      <td>...</td>\n",
       "      <td>8.096893</td>\n",
       "      <td>-500.827423</td>\n",
       "      <td>8.071056</td>\n",
       "      <td>-500.801673</td>\n",
       "      <td>4.905125</td>\n",
       "      <td>-499.828510</td>\n",
       "      <td>24.994862</td>\n",
       "      <td>-500.622559</td>\n",
       "      <td>88.412756</td>\n",
       "      <td>68.143213</td>\n",
       "    </tr>\n",
       "    <tr>\n",
       "      <th>3</th>\n",
       "      <td>215.336236</td>\n",
       "      <td>12.006805</td>\n",
       "      <td>7.640000</td>\n",
       "      <td>0.863514</td>\n",
       "      <td>1399.618111</td>\n",
       "      <td>-498.863574</td>\n",
       "      <td>1397.440120</td>\n",
       "      <td>-499.211024</td>\n",
       "      <td>1400.129303</td>\n",
       "      <td>-498.355873</td>\n",
       "      <td>...</td>\n",
       "      <td>8.074946</td>\n",
       "      <td>-499.474407</td>\n",
       "      <td>7.897085</td>\n",
       "      <td>-500.868509</td>\n",
       "      <td>4.931400</td>\n",
       "      <td>-499.963623</td>\n",
       "      <td>24.948919</td>\n",
       "      <td>-498.709987</td>\n",
       "      <td>87.360133</td>\n",
       "      <td>67.776393</td>\n",
       "    </tr>\n",
       "    <tr>\n",
       "      <th>4</th>\n",
       "      <td>199.099327</td>\n",
       "      <td>10.682530</td>\n",
       "      <td>7.530000</td>\n",
       "      <td>0.805575</td>\n",
       "      <td>1401.268123</td>\n",
       "      <td>-500.808305</td>\n",
       "      <td>1398.128818</td>\n",
       "      <td>-499.504543</td>\n",
       "      <td>1402.172226</td>\n",
       "      <td>-500.810606</td>\n",
       "      <td>...</td>\n",
       "      <td>8.054678</td>\n",
       "      <td>-500.397500</td>\n",
       "      <td>8.107890</td>\n",
       "      <td>-509.526725</td>\n",
       "      <td>4.957674</td>\n",
       "      <td>-500.360026</td>\n",
       "      <td>25.003331</td>\n",
       "      <td>-500.856333</td>\n",
       "      <td>83.236367</td>\n",
       "      <td>61.467078</td>\n",
       "    </tr>\n",
       "    <tr>\n",
       "      <th>...</th>\n",
       "      <td>...</td>\n",
       "      <td>...</td>\n",
       "      <td>...</td>\n",
       "      <td>...</td>\n",
       "      <td>...</td>\n",
       "      <td>...</td>\n",
       "      <td>...</td>\n",
       "      <td>...</td>\n",
       "      <td>...</td>\n",
       "      <td>...</td>\n",
       "      <td>...</td>\n",
       "      <td>...</td>\n",
       "      <td>...</td>\n",
       "      <td>...</td>\n",
       "      <td>...</td>\n",
       "      <td>...</td>\n",
       "      <td>...</td>\n",
       "      <td>...</td>\n",
       "      <td>...</td>\n",
       "      <td>...</td>\n",
       "      <td>...</td>\n",
       "    </tr>\n",
       "    <tr>\n",
       "      <th>5851</th>\n",
       "      <td>173.957757</td>\n",
       "      <td>15.963399</td>\n",
       "      <td>8.070000</td>\n",
       "      <td>0.896701</td>\n",
       "      <td>1401.930554</td>\n",
       "      <td>-499.728848</td>\n",
       "      <td>1401.441445</td>\n",
       "      <td>-499.193423</td>\n",
       "      <td>1399.810313</td>\n",
       "      <td>-499.599127</td>\n",
       "      <td>...</td>\n",
       "      <td>12.069155</td>\n",
       "      <td>-499.673279</td>\n",
       "      <td>7.977259</td>\n",
       "      <td>-499.516126</td>\n",
       "      <td>5.933319</td>\n",
       "      <td>-499.965973</td>\n",
       "      <td>8.987171</td>\n",
       "      <td>-499.755909</td>\n",
       "      <td>95.172585</td>\n",
       "      <td>68.919891</td>\n",
       "    </tr>\n",
       "    <tr>\n",
       "      <th>5852</th>\n",
       "      <td>172.910270</td>\n",
       "      <td>16.002605</td>\n",
       "      <td>8.070000</td>\n",
       "      <td>0.896519</td>\n",
       "      <td>1447.075722</td>\n",
       "      <td>-494.716823</td>\n",
       "      <td>1448.851892</td>\n",
       "      <td>-465.963026</td>\n",
       "      <td>1443.890424</td>\n",
       "      <td>-503.587739</td>\n",
       "      <td>...</td>\n",
       "      <td>13.365371</td>\n",
       "      <td>-499.122723</td>\n",
       "      <td>9.288553</td>\n",
       "      <td>-496.892967</td>\n",
       "      <td>7.372897</td>\n",
       "      <td>-499.942956</td>\n",
       "      <td>8.986832</td>\n",
       "      <td>-499.903761</td>\n",
       "      <td>94.575036</td>\n",
       "      <td>68.440582</td>\n",
       "    </tr>\n",
       "    <tr>\n",
       "      <th>5853</th>\n",
       "      <td>171.135718</td>\n",
       "      <td>15.993669</td>\n",
       "      <td>8.070000</td>\n",
       "      <td>1.165996</td>\n",
       "      <td>1498.836182</td>\n",
       "      <td>-501.770403</td>\n",
       "      <td>1499.572353</td>\n",
       "      <td>-495.516347</td>\n",
       "      <td>1502.749213</td>\n",
       "      <td>-520.667442</td>\n",
       "      <td>...</td>\n",
       "      <td>15.101425</td>\n",
       "      <td>-499.936252</td>\n",
       "      <td>10.989181</td>\n",
       "      <td>-498.347898</td>\n",
       "      <td>9.020944</td>\n",
       "      <td>-500.040448</td>\n",
       "      <td>8.982038</td>\n",
       "      <td>-497.789882</td>\n",
       "      <td>93.018138</td>\n",
       "      <td>67.092759</td>\n",
       "    </tr>\n",
       "    <tr>\n",
       "      <th>5854</th>\n",
       "      <td>179.697158</td>\n",
       "      <td>15.438979</td>\n",
       "      <td>8.070000</td>\n",
       "      <td>1.501068</td>\n",
       "      <td>1498.466243</td>\n",
       "      <td>-500.483984</td>\n",
       "      <td>1497.986986</td>\n",
       "      <td>-519.200340</td>\n",
       "      <td>1496.569047</td>\n",
       "      <td>-487.479567</td>\n",
       "      <td>...</td>\n",
       "      <td>15.026853</td>\n",
       "      <td>-499.723143</td>\n",
       "      <td>11.011607</td>\n",
       "      <td>-499.985046</td>\n",
       "      <td>9.009783</td>\n",
       "      <td>-499.937902</td>\n",
       "      <td>9.012660</td>\n",
       "      <td>-500.154284</td>\n",
       "      <td>92.599042</td>\n",
       "      <td>68.061186</td>\n",
       "    </tr>\n",
       "    <tr>\n",
       "      <th>5855</th>\n",
       "      <td>181.556856</td>\n",
       "      <td>14.995850</td>\n",
       "      <td>8.070000</td>\n",
       "      <td>1.623454</td>\n",
       "      <td>1498.096303</td>\n",
       "      <td>-499.796922</td>\n",
       "      <td>1501.743791</td>\n",
       "      <td>-505.146931</td>\n",
       "      <td>1499.535978</td>\n",
       "      <td>-492.428226</td>\n",
       "      <td>...</td>\n",
       "      <td>14.914199</td>\n",
       "      <td>-499.948518</td>\n",
       "      <td>10.986607</td>\n",
       "      <td>-500.658027</td>\n",
       "      <td>8.989497</td>\n",
       "      <td>-500.337588</td>\n",
       "      <td>8.988632</td>\n",
       "      <td>-500.764937</td>\n",
       "      <td>91.177695</td>\n",
       "      <td>71.699976</td>\n",
       "    </tr>\n",
       "  </tbody>\n",
       "</table>\n",
       "<p>5229 rows × 54 columns</p>\n",
       "</div>"
      ],
      "text/plain": [
       "      primary_cleaner.input.sulfate  primary_cleaner.input.depressant  \\\n",
       "0                        210.800909                         14.993118   \n",
       "1                        215.392455                         14.987471   \n",
       "2                        215.259946                         12.884934   \n",
       "3                        215.336236                         12.006805   \n",
       "4                        199.099327                         10.682530   \n",
       "...                             ...                               ...   \n",
       "5851                     173.957757                         15.963399   \n",
       "5852                     172.910270                         16.002605   \n",
       "5853                     171.135718                         15.993669   \n",
       "5854                     179.697158                         15.438979   \n",
       "5855                     181.556856                         14.995850   \n",
       "\n",
       "      primary_cleaner.input.feed_size  primary_cleaner.input.xanthate  \\\n",
       "0                            8.080000                        1.005021   \n",
       "1                            8.080000                        0.990469   \n",
       "2                            7.786667                        0.996043   \n",
       "3                            7.640000                        0.863514   \n",
       "4                            7.530000                        0.805575   \n",
       "...                               ...                             ...   \n",
       "5851                         8.070000                        0.896701   \n",
       "5852                         8.070000                        0.896519   \n",
       "5853                         8.070000                        1.165996   \n",
       "5854                         8.070000                        1.501068   \n",
       "5855                         8.070000                        1.623454   \n",
       "\n",
       "      primary_cleaner.state.floatbank8_a_air  \\\n",
       "0                                1398.981301   \n",
       "1                                1398.777912   \n",
       "2                                1398.493666   \n",
       "3                                1399.618111   \n",
       "4                                1401.268123   \n",
       "...                                      ...   \n",
       "5851                             1401.930554   \n",
       "5852                             1447.075722   \n",
       "5853                             1498.836182   \n",
       "5854                             1498.466243   \n",
       "5855                             1498.096303   \n",
       "\n",
       "      primary_cleaner.state.floatbank8_a_level  \\\n",
       "0                                  -500.225577   \n",
       "1                                  -500.057435   \n",
       "2                                  -500.868360   \n",
       "3                                  -498.863574   \n",
       "4                                  -500.808305   \n",
       "...                                        ...   \n",
       "5851                               -499.728848   \n",
       "5852                               -494.716823   \n",
       "5853                               -501.770403   \n",
       "5854                               -500.483984   \n",
       "5855                               -499.796922   \n",
       "\n",
       "      primary_cleaner.state.floatbank8_b_air  \\\n",
       "0                                1399.144926   \n",
       "1                                1398.055362   \n",
       "2                                1398.860436   \n",
       "3                                1397.440120   \n",
       "4                                1398.128818   \n",
       "...                                      ...   \n",
       "5851                             1401.441445   \n",
       "5852                             1448.851892   \n",
       "5853                             1499.572353   \n",
       "5854                             1497.986986   \n",
       "5855                             1501.743791   \n",
       "\n",
       "      primary_cleaner.state.floatbank8_b_level  \\\n",
       "0                                  -499.919735   \n",
       "1                                  -499.778182   \n",
       "2                                  -499.764529   \n",
       "3                                  -499.211024   \n",
       "4                                  -499.504543   \n",
       "...                                        ...   \n",
       "5851                               -499.193423   \n",
       "5852                               -465.963026   \n",
       "5853                               -495.516347   \n",
       "5854                               -519.200340   \n",
       "5855                               -505.146931   \n",
       "\n",
       "      primary_cleaner.state.floatbank8_c_air  \\\n",
       "0                                1400.102998   \n",
       "1                                1396.151033   \n",
       "2                                1398.075709   \n",
       "3                                1400.129303   \n",
       "4                                1402.172226   \n",
       "...                                      ...   \n",
       "5851                             1399.810313   \n",
       "5852                             1443.890424   \n",
       "5853                             1502.749213   \n",
       "5854                             1496.569047   \n",
       "5855                             1499.535978   \n",
       "\n",
       "      primary_cleaner.state.floatbank8_c_level  ...  \\\n",
       "0                                  -500.704369  ...   \n",
       "1                                  -499.240168  ...   \n",
       "2                                  -502.151509  ...   \n",
       "3                                  -498.355873  ...   \n",
       "4                                  -500.810606  ...   \n",
       "...                                        ...  ...   \n",
       "5851                               -499.599127  ...   \n",
       "5852                               -503.587739  ...   \n",
       "5853                               -520.667442  ...   \n",
       "5854                               -487.479567  ...   \n",
       "5855                               -492.428226  ...   \n",
       "\n",
       "      secondary_cleaner.state.floatbank4_b_air  \\\n",
       "0                                     8.016656   \n",
       "1                                     8.130979   \n",
       "2                                     8.096893   \n",
       "3                                     8.074946   \n",
       "4                                     8.054678   \n",
       "...                                        ...   \n",
       "5851                                 12.069155   \n",
       "5852                                 13.365371   \n",
       "5853                                 15.101425   \n",
       "5854                                 15.026853   \n",
       "5855                                 14.914199   \n",
       "\n",
       "      secondary_cleaner.state.floatbank4_b_level  \\\n",
       "0                                    -501.289139   \n",
       "1                                    -499.634209   \n",
       "2                                    -500.827423   \n",
       "3                                    -499.474407   \n",
       "4                                    -500.397500   \n",
       "...                                          ...   \n",
       "5851                                 -499.673279   \n",
       "5852                                 -499.122723   \n",
       "5853                                 -499.936252   \n",
       "5854                                 -499.723143   \n",
       "5855                                 -499.948518   \n",
       "\n",
       "      secondary_cleaner.state.floatbank5_a_air  \\\n",
       "0                                     7.946562   \n",
       "1                                     7.958270   \n",
       "2                                     8.071056   \n",
       "3                                     7.897085   \n",
       "4                                     8.107890   \n",
       "...                                        ...   \n",
       "5851                                  7.977259   \n",
       "5852                                  9.288553   \n",
       "5853                                 10.989181   \n",
       "5854                                 11.011607   \n",
       "5855                                 10.986607   \n",
       "\n",
       "      secondary_cleaner.state.floatbank5_a_level  \\\n",
       "0                                    -432.317850   \n",
       "1                                    -525.839648   \n",
       "2                                    -500.801673   \n",
       "3                                    -500.868509   \n",
       "4                                    -509.526725   \n",
       "...                                          ...   \n",
       "5851                                 -499.516126   \n",
       "5852                                 -496.892967   \n",
       "5853                                 -498.347898   \n",
       "5854                                 -499.985046   \n",
       "5855                                 -500.658027   \n",
       "\n",
       "      secondary_cleaner.state.floatbank5_b_air  \\\n",
       "0                                     4.872511   \n",
       "1                                     4.878850   \n",
       "2                                     4.905125   \n",
       "3                                     4.931400   \n",
       "4                                     4.957674   \n",
       "...                                        ...   \n",
       "5851                                  5.933319   \n",
       "5852                                  7.372897   \n",
       "5853                                  9.020944   \n",
       "5854                                  9.009783   \n",
       "5855                                  8.989497   \n",
       "\n",
       "      secondary_cleaner.state.floatbank5_b_level  \\\n",
       "0                                    -500.037437   \n",
       "1                                    -500.162375   \n",
       "2                                    -499.828510   \n",
       "3                                    -499.963623   \n",
       "4                                    -500.360026   \n",
       "...                                          ...   \n",
       "5851                                 -499.965973   \n",
       "5852                                 -499.942956   \n",
       "5853                                 -500.040448   \n",
       "5854                                 -499.937902   \n",
       "5855                                 -500.337588   \n",
       "\n",
       "      secondary_cleaner.state.floatbank6_a_air  \\\n",
       "0                                    26.705889   \n",
       "1                                    25.019940   \n",
       "2                                    24.994862   \n",
       "3                                    24.948919   \n",
       "4                                    25.003331   \n",
       "...                                        ...   \n",
       "5851                                  8.987171   \n",
       "5852                                  8.986832   \n",
       "5853                                  8.982038   \n",
       "5854                                  9.012660   \n",
       "5855                                  8.988632   \n",
       "\n",
       "      secondary_cleaner.state.floatbank6_a_level  rougher.output.recovery  \\\n",
       "0                                    -499.709414                89.993421   \n",
       "1                                    -499.819438                88.089657   \n",
       "2                                    -500.622559                88.412756   \n",
       "3                                    -498.709987                87.360133   \n",
       "4                                    -500.856333                83.236367   \n",
       "...                                          ...                      ...   \n",
       "5851                                 -499.755909                95.172585   \n",
       "5852                                 -499.903761                94.575036   \n",
       "5853                                 -497.789882                93.018138   \n",
       "5854                                 -500.154284                92.599042   \n",
       "5855                                 -500.764937                91.177695   \n",
       "\n",
       "      final.output.recovery  \n",
       "0                 70.273583  \n",
       "1                 68.910432  \n",
       "2                 68.143213  \n",
       "3                 67.776393  \n",
       "4                 61.467078  \n",
       "...                     ...  \n",
       "5851              68.919891  \n",
       "5852              68.440582  \n",
       "5853              67.092759  \n",
       "5854              68.061186  \n",
       "5855              71.699976  \n",
       "\n",
       "[5229 rows x 54 columns]"
      ]
     },
     "execution_count": 55,
     "metadata": {},
     "output_type": "execute_result"
    }
   ],
   "source": [
    "gold_test['rougher.output.recovery']=col_test['rougher.output.recovery']\n",
    "gold_test['final.output.recovery']=col_test['final.output.recovery']\n",
    "gold_test=gold_test.drop(['date'],axis=1)\n",
    "gold_test=gold_test.dropna()\n",
    "gold_test"
   ]
  },
  {
   "cell_type": "markdown",
   "metadata": {},
   "source": [
    "## Análisis"
   ]
  },
  {
   "cell_type": "markdown",
   "metadata": {},
   "source": [
    "### Concentración de metales"
   ]
  },
  {
   "cell_type": "markdown",
   "metadata": {},
   "source": [
    "Observamos cómo cambia la concentración de metales (Au, Ag, Pb) en función de la etapa de purificación:\n",
    "- Antes de la flotación\n",
    "- Al salir de la flotación\n",
    "- Después de la primera limpieza\n",
    "- Al finalizar el proceso"
   ]
  },
  {
   "cell_type": "code",
   "execution_count": 56,
   "metadata": {},
   "outputs": [],
   "source": [
    "au=gold_train[['rougher.input.feed_au','rougher.output.concentrate_au','primary_cleaner.output.concentrate_au','final.output.concentrate_au']]\n",
    "ag=gold_train[['rougher.input.feed_ag','rougher.output.concentrate_ag','primary_cleaner.output.concentrate_ag','final.output.concentrate_ag']]\n",
    "pb=gold_train[['rougher.input.feed_pb','rougher.output.concentrate_pb','primary_cleaner.output.concentrate_pb','final.output.concentrate_pb']]"
   ]
  },
  {
   "cell_type": "code",
   "execution_count": 57,
   "metadata": {
    "scrolled": true
   },
   "outputs": [
    {
     "data": {
      "image/png": "[encoded data removed]",
      "text/plain": [
       "<Figure size 432x288 with 1 Axes>"
      ]
     },
     "metadata": {
      "needs_background": "light"
     },
     "output_type": "display_data"
    },
    {
     "data": {
      "image/png": "[encoded data removed]",
      "text/plain": [
       "<Figure size 432x288 with 1 Axes>"
      ]
     },
     "metadata": {
      "needs_background": "light"
     },
     "output_type": "display_data"
    },
    {
     "data": {
      "image/png": "[encoded data removed]",
      "text/plain": [
       "<Figure size 432x288 with 1 Axes>"
      ]
     },
     "metadata": {
      "needs_background": "light"
     },
     "output_type": "display_data"
    }
   ],
   "source": [
    "fig1, ax1 = plt.subplots()\n",
    "ax1.set_title('Au')\n",
    "ax1.boxplot(au)\n",
    "\n",
    "fig2, ax2 = plt.subplots()\n",
    "ax2.set_title('Ag')\n",
    "ax2.boxplot(ag)\n",
    "fig3, ax3 = plt.subplots()\n",
    "ax3.set_title('Pb')\n",
    "ax3.boxplot(pb)\n",
    "\n",
    "plt.show()"
   ]
  },
  {
   "cell_type": "markdown",
   "metadata": {},
   "source": [
    "- Se observó que la concentración de Oro en la solución creció de forma lineal desde 9 a 45 aproximadamente. \n",
    "- La concentración de plata subió después de la flotación, pero descendió hasta 5 al finalizar el proceso. \n",
    "- La concentración de plomo subió desde 3 hasta cerca de 10 al finalizar la primera limpieza y aumentó un poco adicional al finalizar el proceso."
   ]
  },
  {
   "cell_type": "markdown",
   "metadata": {},
   "source": [
    "### Tamaño de partículas"
   ]
  },
  {
   "cell_type": "markdown",
   "metadata": {},
   "source": [
    "Comparamos las distribuciones del tamaño de las partículas de la alimentación en el conjunto de entrenamiento y en el conjunto de prueba."
   ]
  },
  {
   "cell_type": "code",
   "execution_count": 58,
   "metadata": {},
   "outputs": [
    {
     "data": {
      "image/png": "[encoded data removed]",
      "text/plain": [
       "<Figure size 432x288 with 1 Axes>"
      ]
     },
     "metadata": {
      "needs_background": "light"
     },
     "output_type": "display_data"
    }
   ],
   "source": [
    "data=[gold_train['primary_cleaner.input.feed_size'],gold_test['primary_cleaner.input.feed_size']]\n",
    "fig4, ax4 = plt.subplots()\n",
    "ax4.set_title('Multiple Samples with Different sizes')\n",
    "ax4.boxplot(data)\n",
    "plt.xticks([1, 2], ['Conjunto de entrenamiento','Conjunto de prueba' ])\n",
    "plt.show()"
   ]
  },
  {
   "cell_type": "code",
   "execution_count": 59,
   "metadata": {},
   "outputs": [
    {
     "data": {
      "image/png": "[encoded data removed]",
      "text/plain": [
       "<Figure size 432x288 with 1 Axes>"
      ]
     },
     "metadata": {
      "needs_background": "light"
     },
     "output_type": "display_data"
    }
   ],
   "source": [
    "data=[gold_train['rougher.input.feed_size'],gold_test['rougher.input.feed_size']]\n",
    "fig5, ax5 = plt.subplots()\n",
    "ax5.set_title('Multiple Samples with Different sizes')\n",
    "ax5.boxplot(data)\n",
    "plt.xticks([1, 2], ['Conjunto de entrenamiento','Conjunto de prueba' ])\n",
    "plt.show()"
   ]
  },
  {
   "cell_type": "code",
   "execution_count": 60,
   "metadata": {},
   "outputs": [
    {
     "data": {
      "text/plain": [
       "(count    11017.000000\n",
       " mean        57.215128\n",
       " std         18.913146\n",
       " min          9.659576\n",
       " 25%         48.397242\n",
       " 50%         53.843359\n",
       " 75%         61.461770\n",
       " max        484.967466\n",
       " Name: rougher.input.feed_size, dtype: float64,\n",
       " count    5229.000000\n",
       " mean       55.863978\n",
       " std        18.914656\n",
       " min         0.046369\n",
       " 25%        43.911874\n",
       " 50%        50.772729\n",
       " 75%        62.265394\n",
       " max       392.494040\n",
       " Name: rougher.input.feed_size, dtype: float64)"
      ]
     },
     "execution_count": 60,
     "metadata": {},
     "output_type": "execute_result"
    }
   ],
   "source": [
    "gold_train['rougher.input.feed_size'].describe(),gold_test['rougher.input.feed_size'].describe()\n"
   ]
  },
  {
   "cell_type": "markdown",
   "metadata": {},
   "source": [
    "Evidenciamos que no hay una diferencia significativa entre los promedios de ambas mediciones."
   ]
  },
  {
   "cell_type": "markdown",
   "metadata": {},
   "source": [
    "### Anomalías"
   ]
  },
  {
   "cell_type": "markdown",
   "metadata": {},
   "source": [
    "Examinamos las concentraciones totales de todas las sustancias en las diferentes etapas: materia prima, concentrado rougher y concentrado final."
   ]
  },
  {
   "cell_type": "code",
   "execution_count": 61,
   "metadata": {},
   "outputs": [
    {
     "data": {
      "text/html": [
       "<div>\n",
       "<style scoped>\n",
       "    .dataframe tbody tr th:only-of-type {\n",
       "        vertical-align: middle;\n",
       "    }\n",
       "\n",
       "    .dataframe tbody tr th {\n",
       "        vertical-align: top;\n",
       "    }\n",
       "\n",
       "    .dataframe thead th {\n",
       "        text-align: right;\n",
       "    }\n",
       "</style>\n",
       "<table border=\"1\" class=\"dataframe\">\n",
       "  <thead>\n",
       "    <tr style=\"text-align: right;\">\n",
       "      <th></th>\n",
       "      <th>rougher.input.feed_sol</th>\n",
       "      <th>rougher.output.concentrate_sol</th>\n",
       "      <th>final.output.concentrate_sol</th>\n",
       "    </tr>\n",
       "  </thead>\n",
       "  <tbody>\n",
       "    <tr>\n",
       "      <th>count</th>\n",
       "      <td>11017.000000</td>\n",
       "      <td>11017.000000</td>\n",
       "      <td>11017.000000</td>\n",
       "    </tr>\n",
       "    <tr>\n",
       "      <th>mean</th>\n",
       "      <td>36.555876</td>\n",
       "      <td>28.667674</td>\n",
       "      <td>9.600570</td>\n",
       "    </tr>\n",
       "    <tr>\n",
       "      <th>std</th>\n",
       "      <td>4.582155</td>\n",
       "      <td>5.945802</td>\n",
       "      <td>2.842305</td>\n",
       "    </tr>\n",
       "    <tr>\n",
       "      <th>min</th>\n",
       "      <td>0.010000</td>\n",
       "      <td>0.000000</td>\n",
       "      <td>0.000000</td>\n",
       "    </tr>\n",
       "    <tr>\n",
       "      <th>25%</th>\n",
       "      <td>34.324135</td>\n",
       "      <td>26.977539</td>\n",
       "      <td>7.951464</td>\n",
       "    </tr>\n",
       "    <tr>\n",
       "      <th>50%</th>\n",
       "      <td>37.052565</td>\n",
       "      <td>29.541871</td>\n",
       "      <td>9.268787</td>\n",
       "    </tr>\n",
       "    <tr>\n",
       "      <th>75%</th>\n",
       "      <td>39.453845</td>\n",
       "      <td>32.035128</td>\n",
       "      <td>10.904933</td>\n",
       "    </tr>\n",
       "    <tr>\n",
       "      <th>max</th>\n",
       "      <td>48.363177</td>\n",
       "      <td>38.351193</td>\n",
       "      <td>18.124851</td>\n",
       "    </tr>\n",
       "  </tbody>\n",
       "</table>\n",
       "</div>"
      ],
      "text/plain": [
       "       rougher.input.feed_sol  rougher.output.concentrate_sol  \\\n",
       "count            11017.000000                    11017.000000   \n",
       "mean                36.555876                       28.667674   \n",
       "std                  4.582155                        5.945802   \n",
       "min                  0.010000                        0.000000   \n",
       "25%                 34.324135                       26.977539   \n",
       "50%                 37.052565                       29.541871   \n",
       "75%                 39.453845                       32.035128   \n",
       "max                 48.363177                       38.351193   \n",
       "\n",
       "       final.output.concentrate_sol  \n",
       "count                  11017.000000  \n",
       "mean                       9.600570  \n",
       "std                        2.842305  \n",
       "min                        0.000000  \n",
       "25%                        7.951464  \n",
       "50%                        9.268787  \n",
       "75%                       10.904933  \n",
       "max                       18.124851  "
      ]
     },
     "execution_count": 61,
     "metadata": {},
     "output_type": "execute_result"
    }
   ],
   "source": [
    "conc_tot=gold_train[['rougher.input.feed_sol','rougher.output.concentrate_sol','final.output.concentrate_sol']]\n",
    "conc_tot.describe()"
   ]
  },
  {
   "cell_type": "code",
   "execution_count": 62,
   "metadata": {
    "scrolled": false
   },
   "outputs": [
    {
     "data": {
      "image/png": "[encoded data removed]",
      "text/plain": [
       "<Figure size 432x288 with 1 Axes>"
      ]
     },
     "metadata": {
      "needs_background": "light"
     },
     "output_type": "display_data"
    }
   ],
   "source": [
    "plt.boxplot(conc_tot)\n",
    "plt.xticks([1, 2,3], ['materia prima','concentrado rougher','concentrado final' ])\n",
    "plt.show()"
   ]
  },
  {
   "cell_type": "markdown",
   "metadata": {},
   "source": [
    "Eliminamos los valores muy inferiores al cuartil 0.25."
   ]
  },
  {
   "cell_type": "code",
   "execution_count": 63,
   "metadata": {},
   "outputs": [],
   "source": [
    "gold_train=gold_train.loc[gold_train['rougher.input.feed_sol']>5]\n",
    "gold_train=gold_train.loc[gold_train['rougher.output.concentrate_sol']>1]\n",
    "gold_train=gold_train.loc[gold_train['final.output.concentrate_sol']>0]"
   ]
  },
  {
   "cell_type": "code",
   "execution_count": 64,
   "metadata": {},
   "outputs": [
    {
     "data": {
      "image/png": "[encoded data removed]",
      "text/plain": [
       "<Figure size 432x288 with 1 Axes>"
      ]
     },
     "metadata": {
      "needs_background": "light"
     },
     "output_type": "display_data"
    }
   ],
   "source": [
    "conc_tot=gold_train[['rougher.input.feed_sol','rougher.output.concentrate_sol','final.output.concentrate_sol']]\n",
    "plt.xticks([1, 2,3], ['materia prima','concentrado rougher','concentrado final' ])\n",
    "plt.boxplot(conc_tot)\n",
    "plt.show()"
   ]
  },
  {
   "cell_type": "markdown",
   "metadata": {},
   "source": [
    "Se eliminaron los valores de concentración de la solución igual y cercano a 0. Además, se observó que la concentración va descendiendo conforme avanza el proceso."
   ]
  },
  {
   "cell_type": "markdown",
   "metadata": {},
   "source": [
    "## Entrenamiento de modelo"
   ]
  },
  {
   "cell_type": "markdown",
   "metadata": {},
   "source": [
    "### Función sMAPE"
   ]
  },
  {
   "cell_type": "markdown",
   "metadata": {},
   "source": [
    "Definimos una función para calcular el valor sMAPE. El valor final sMAPE se realizará en cada modelo de Machine Learning."
   ]
  },
  {
   "cell_type": "code",
   "execution_count": 65,
   "metadata": {},
   "outputs": [],
   "source": [
    "def calculate_smape(target,prediction):\n",
    "    suma=2*(np.abs(target-prediction)).sum()/(np.abs(target).sum()+np.abs(prediction).sum())\n",
    "    smape=100*(suma)/len(target)\n",
    "    return smape"
   ]
  },
  {
   "cell_type": "markdown",
   "metadata": {},
   "source": [
    "### Preparación para entrenamiento"
   ]
  },
  {
   "cell_type": "markdown",
   "metadata": {},
   "source": [
    "En el conjunto de entrenamiento seleccionamos solo las columnas que en el conjunto de prueba."
   ]
  },
  {
   "cell_type": "code",
   "execution_count": 66,
   "metadata": {},
   "outputs": [],
   "source": [
    "gold_train=gold_train[(gold_test.columns)]"
   ]
  },
  {
   "cell_type": "markdown",
   "metadata": {},
   "source": [
    "Realizamos el método de escalamiento en los conjuntos de entrenamiento y prueba en las columnas numéricas."
   ]
  },
  {
   "cell_type": "code",
   "execution_count": 67,
   "metadata": {},
   "outputs": [
    {
     "data": {
      "text/plain": [
       "Index(['primary_cleaner.input.sulfate', 'primary_cleaner.input.depressant',\n",
       "       'primary_cleaner.input.feed_size', 'primary_cleaner.input.xanthate',\n",
       "       'primary_cleaner.state.floatbank8_a_air',\n",
       "       'primary_cleaner.state.floatbank8_a_level',\n",
       "       'primary_cleaner.state.floatbank8_b_air',\n",
       "       'primary_cleaner.state.floatbank8_b_level',\n",
       "       'primary_cleaner.state.floatbank8_c_air',\n",
       "       'primary_cleaner.state.floatbank8_c_level',\n",
       "       'primary_cleaner.state.floatbank8_d_air',\n",
       "       'primary_cleaner.state.floatbank8_d_level', 'rougher.input.feed_ag',\n",
       "       'rougher.input.feed_pb', 'rougher.input.feed_rate',\n",
       "       'rougher.input.feed_size', 'rougher.input.feed_sol',\n",
       "       'rougher.input.feed_au', 'rougher.input.floatbank10_sulfate',\n",
       "       'rougher.input.floatbank10_xanthate',\n",
       "       'rougher.input.floatbank11_sulfate',\n",
       "       'rougher.input.floatbank11_xanthate', 'rougher.state.floatbank10_a_air',\n",
       "       'rougher.state.floatbank10_a_level', 'rougher.state.floatbank10_b_air',\n",
       "       'rougher.state.floatbank10_b_level', 'rougher.state.floatbank10_c_air',\n",
       "       'rougher.state.floatbank10_c_level', 'rougher.state.floatbank10_d_air',\n",
       "       'rougher.state.floatbank10_d_level', 'rougher.state.floatbank10_e_air',\n",
       "       'rougher.state.floatbank10_e_level', 'rougher.state.floatbank10_f_air',\n",
       "       'rougher.state.floatbank10_f_level',\n",
       "       'secondary_cleaner.state.floatbank2_a_air',\n",
       "       'secondary_cleaner.state.floatbank2_a_level',\n",
       "       'secondary_cleaner.state.floatbank2_b_air',\n",
       "       'secondary_cleaner.state.floatbank2_b_level',\n",
       "       'secondary_cleaner.state.floatbank3_a_air',\n",
       "       'secondary_cleaner.state.floatbank3_a_level',\n",
       "       'secondary_cleaner.state.floatbank3_b_air',\n",
       "       'secondary_cleaner.state.floatbank3_b_level',\n",
       "       'secondary_cleaner.state.floatbank4_a_air',\n",
       "       'secondary_cleaner.state.floatbank4_a_level',\n",
       "       'secondary_cleaner.state.floatbank4_b_air',\n",
       "       'secondary_cleaner.state.floatbank4_b_level',\n",
       "       'secondary_cleaner.state.floatbank5_a_air',\n",
       "       'secondary_cleaner.state.floatbank5_a_level',\n",
       "       'secondary_cleaner.state.floatbank5_b_air',\n",
       "       'secondary_cleaner.state.floatbank5_b_level',\n",
       "       'secondary_cleaner.state.floatbank6_a_air',\n",
       "       'secondary_cleaner.state.floatbank6_a_level'],\n",
       "      dtype='object')"
      ]
     },
     "execution_count": 67,
     "metadata": {},
     "output_type": "execute_result"
    }
   ],
   "source": [
    "numeric=gold_test.columns[0:-2]\n",
    "numeric"
   ]
  },
  {
   "cell_type": "markdown",
   "metadata": {},
   "source": [
    "Realizamos el escalamiento en gold_train."
   ]
  },
  {
   "cell_type": "code",
   "execution_count": 68,
   "metadata": {},
   "outputs": [
    {
     "data": {
      "text/html": [
       "<div>\n",
       "<style scoped>\n",
       "    .dataframe tbody tr th:only-of-type {\n",
       "        vertical-align: middle;\n",
       "    }\n",
       "\n",
       "    .dataframe tbody tr th {\n",
       "        vertical-align: top;\n",
       "    }\n",
       "\n",
       "    .dataframe thead th {\n",
       "        text-align: right;\n",
       "    }\n",
       "</style>\n",
       "<table border=\"1\" class=\"dataframe\">\n",
       "  <thead>\n",
       "    <tr style=\"text-align: right;\">\n",
       "      <th></th>\n",
       "      <th>primary_cleaner.input.sulfate</th>\n",
       "      <th>primary_cleaner.input.depressant</th>\n",
       "      <th>primary_cleaner.input.feed_size</th>\n",
       "      <th>primary_cleaner.input.xanthate</th>\n",
       "      <th>primary_cleaner.state.floatbank8_a_air</th>\n",
       "      <th>primary_cleaner.state.floatbank8_a_level</th>\n",
       "      <th>primary_cleaner.state.floatbank8_b_air</th>\n",
       "      <th>primary_cleaner.state.floatbank8_b_level</th>\n",
       "      <th>primary_cleaner.state.floatbank8_c_air</th>\n",
       "      <th>primary_cleaner.state.floatbank8_c_level</th>\n",
       "      <th>...</th>\n",
       "      <th>secondary_cleaner.state.floatbank4_b_air</th>\n",
       "      <th>secondary_cleaner.state.floatbank4_b_level</th>\n",
       "      <th>secondary_cleaner.state.floatbank5_a_air</th>\n",
       "      <th>secondary_cleaner.state.floatbank5_a_level</th>\n",
       "      <th>secondary_cleaner.state.floatbank5_b_air</th>\n",
       "      <th>secondary_cleaner.state.floatbank5_b_level</th>\n",
       "      <th>secondary_cleaner.state.floatbank6_a_air</th>\n",
       "      <th>secondary_cleaner.state.floatbank6_a_level</th>\n",
       "      <th>rougher.output.recovery</th>\n",
       "      <th>final.output.recovery</th>\n",
       "    </tr>\n",
       "  </thead>\n",
       "  <tbody>\n",
       "    <tr>\n",
       "      <th>0</th>\n",
       "      <td>-0.381639</td>\n",
       "      <td>0.237554</td>\n",
       "      <td>-0.259722</td>\n",
       "      <td>0.261259</td>\n",
       "      <td>-0.431625</td>\n",
       "      <td>-0.302249</td>\n",
       "      <td>-0.429600</td>\n",
       "      <td>-0.805438</td>\n",
       "      <td>-0.419732</td>\n",
       "      <td>-0.278836</td>\n",
       "      <td>...</td>\n",
       "      <td>-0.548423</td>\n",
       "      <td>-0.793166</td>\n",
       "      <td>-1.120384</td>\n",
       "      <td>-0.404831</td>\n",
       "      <td>-0.799278</td>\n",
       "      <td>-0.445365</td>\n",
       "      <td>-1.084841</td>\n",
       "      <td>-2.445214</td>\n",
       "      <td>87.107763</td>\n",
       "      <td>70.541216</td>\n",
       "    </tr>\n",
       "    <tr>\n",
       "      <th>1</th>\n",
       "      <td>-0.422250</td>\n",
       "      <td>0.287150</td>\n",
       "      <td>-0.259722</td>\n",
       "      <td>0.299300</td>\n",
       "      <td>-0.231343</td>\n",
       "      <td>-0.360001</td>\n",
       "      <td>-0.245581</td>\n",
       "      <td>-0.323313</td>\n",
       "      <td>-0.227030</td>\n",
       "      <td>-0.297329</td>\n",
       "      <td>...</td>\n",
       "      <td>-0.576062</td>\n",
       "      <td>-0.736938</td>\n",
       "      <td>-1.100962</td>\n",
       "      <td>-0.450350</td>\n",
       "      <td>-0.815424</td>\n",
       "      <td>-0.448041</td>\n",
       "      <td>-1.112324</td>\n",
       "      <td>-2.292897</td>\n",
       "      <td>86.843261</td>\n",
       "      <td>69.266198</td>\n",
       "    </tr>\n",
       "    <tr>\n",
       "      <th>2</th>\n",
       "      <td>-0.472484</td>\n",
       "      <td>0.588361</td>\n",
       "      <td>-0.259722</td>\n",
       "      <td>0.268117</td>\n",
       "      <td>-0.038661</td>\n",
       "      <td>-0.333711</td>\n",
       "      <td>-0.062165</td>\n",
       "      <td>-0.344941</td>\n",
       "      <td>-0.035146</td>\n",
       "      <td>-0.341672</td>\n",
       "      <td>...</td>\n",
       "      <td>-0.583045</td>\n",
       "      <td>-0.733646</td>\n",
       "      <td>-1.095548</td>\n",
       "      <td>-0.449350</td>\n",
       "      <td>-0.810470</td>\n",
       "      <td>-0.446486</td>\n",
       "      <td>-1.106879</td>\n",
       "      <td>-2.334158</td>\n",
       "      <td>86.842308</td>\n",
       "      <td>68.116445</td>\n",
       "    </tr>\n",
       "    <tr>\n",
       "      <th>3</th>\n",
       "      <td>-0.515506</td>\n",
       "      <td>0.590092</td>\n",
       "      <td>-0.259722</td>\n",
       "      <td>0.283091</td>\n",
       "      <td>-0.050708</td>\n",
       "      <td>-0.361357</td>\n",
       "      <td>-0.060119</td>\n",
       "      <td>-0.317809</td>\n",
       "      <td>-0.047684</td>\n",
       "      <td>-0.337620</td>\n",
       "      <td>...</td>\n",
       "      <td>-0.566993</td>\n",
       "      <td>-0.734647</td>\n",
       "      <td>-1.112737</td>\n",
       "      <td>-0.426649</td>\n",
       "      <td>-0.816688</td>\n",
       "      <td>-0.440190</td>\n",
       "      <td>-1.111031</td>\n",
       "      <td>-2.298153</td>\n",
       "      <td>87.226430</td>\n",
       "      <td>68.347543</td>\n",
       "    </tr>\n",
       "    <tr>\n",
       "      <th>4</th>\n",
       "      <td>-0.634387</td>\n",
       "      <td>0.764752</td>\n",
       "      <td>-0.259722</td>\n",
       "      <td>0.319016</td>\n",
       "      <td>-0.040304</td>\n",
       "      <td>-0.304084</td>\n",
       "      <td>-0.054275</td>\n",
       "      <td>-0.336647</td>\n",
       "      <td>-0.053012</td>\n",
       "      <td>-0.342188</td>\n",
       "      <td>...</td>\n",
       "      <td>-0.575592</td>\n",
       "      <td>-0.732325</td>\n",
       "      <td>-1.120371</td>\n",
       "      <td>-0.487473</td>\n",
       "      <td>-0.830823</td>\n",
       "      <td>-0.442599</td>\n",
       "      <td>-1.112630</td>\n",
       "      <td>-2.335902</td>\n",
       "      <td>86.688794</td>\n",
       "      <td>66.927016</td>\n",
       "    </tr>\n",
       "  </tbody>\n",
       "</table>\n",
       "<p>5 rows × 54 columns</p>\n",
       "</div>"
      ],
      "text/plain": [
       "   primary_cleaner.input.sulfate  primary_cleaner.input.depressant  \\\n",
       "0                      -0.381639                          0.237554   \n",
       "1                      -0.422250                          0.287150   \n",
       "2                      -0.472484                          0.588361   \n",
       "3                      -0.515506                          0.590092   \n",
       "4                      -0.634387                          0.764752   \n",
       "\n",
       "   primary_cleaner.input.feed_size  primary_cleaner.input.xanthate  \\\n",
       "0                        -0.259722                        0.261259   \n",
       "1                        -0.259722                        0.299300   \n",
       "2                        -0.259722                        0.268117   \n",
       "3                        -0.259722                        0.283091   \n",
       "4                        -0.259722                        0.319016   \n",
       "\n",
       "   primary_cleaner.state.floatbank8_a_air  \\\n",
       "0                               -0.431625   \n",
       "1                               -0.231343   \n",
       "2                               -0.038661   \n",
       "3                               -0.050708   \n",
       "4                               -0.040304   \n",
       "\n",
       "   primary_cleaner.state.floatbank8_a_level  \\\n",
       "0                                 -0.302249   \n",
       "1                                 -0.360001   \n",
       "2                                 -0.333711   \n",
       "3                                 -0.361357   \n",
       "4                                 -0.304084   \n",
       "\n",
       "   primary_cleaner.state.floatbank8_b_air  \\\n",
       "0                               -0.429600   \n",
       "1                               -0.245581   \n",
       "2                               -0.062165   \n",
       "3                               -0.060119   \n",
       "4                               -0.054275   \n",
       "\n",
       "   primary_cleaner.state.floatbank8_b_level  \\\n",
       "0                                 -0.805438   \n",
       "1                                 -0.323313   \n",
       "2                                 -0.344941   \n",
       "3                                 -0.317809   \n",
       "4                                 -0.336647   \n",
       "\n",
       "   primary_cleaner.state.floatbank8_c_air  \\\n",
       "0                               -0.419732   \n",
       "1                               -0.227030   \n",
       "2                               -0.035146   \n",
       "3                               -0.047684   \n",
       "4                               -0.053012   \n",
       "\n",
       "   primary_cleaner.state.floatbank8_c_level  ...  \\\n",
       "0                                 -0.278836  ...   \n",
       "1                                 -0.297329  ...   \n",
       "2                                 -0.341672  ...   \n",
       "3                                 -0.337620  ...   \n",
       "4                                 -0.342188  ...   \n",
       "\n",
       "   secondary_cleaner.state.floatbank4_b_air  \\\n",
       "0                                 -0.548423   \n",
       "1                                 -0.576062   \n",
       "2                                 -0.583045   \n",
       "3                                 -0.566993   \n",
       "4                                 -0.575592   \n",
       "\n",
       "   secondary_cleaner.state.floatbank4_b_level  \\\n",
       "0                                   -0.793166   \n",
       "1                                   -0.736938   \n",
       "2                                   -0.733646   \n",
       "3                                   -0.734647   \n",
       "4                                   -0.732325   \n",
       "\n",
       "   secondary_cleaner.state.floatbank5_a_air  \\\n",
       "0                                 -1.120384   \n",
       "1                                 -1.100962   \n",
       "2                                 -1.095548   \n",
       "3                                 -1.112737   \n",
       "4                                 -1.120371   \n",
       "\n",
       "   secondary_cleaner.state.floatbank5_a_level  \\\n",
       "0                                   -0.404831   \n",
       "1                                   -0.450350   \n",
       "2                                   -0.449350   \n",
       "3                                   -0.426649   \n",
       "4                                   -0.487473   \n",
       "\n",
       "   secondary_cleaner.state.floatbank5_b_air  \\\n",
       "0                                 -0.799278   \n",
       "1                                 -0.815424   \n",
       "2                                 -0.810470   \n",
       "3                                 -0.816688   \n",
       "4                                 -0.830823   \n",
       "\n",
       "   secondary_cleaner.state.floatbank5_b_level  \\\n",
       "0                                   -0.445365   \n",
       "1                                   -0.448041   \n",
       "2                                   -0.446486   \n",
       "3                                   -0.440190   \n",
       "4                                   -0.442599   \n",
       "\n",
       "   secondary_cleaner.state.floatbank6_a_air  \\\n",
       "0                                 -1.084841   \n",
       "1                                 -1.112324   \n",
       "2                                 -1.106879   \n",
       "3                                 -1.111031   \n",
       "4                                 -1.112630   \n",
       "\n",
       "   secondary_cleaner.state.floatbank6_a_level  rougher.output.recovery  \\\n",
       "0                                   -2.445214                87.107763   \n",
       "1                                   -2.292897                86.843261   \n",
       "2                                   -2.334158                86.842308   \n",
       "3                                   -2.298153                87.226430   \n",
       "4                                   -2.335902                86.688794   \n",
       "\n",
       "   final.output.recovery  \n",
       "0              70.541216  \n",
       "1              69.266198  \n",
       "2              68.116445  \n",
       "3              68.347543  \n",
       "4              66.927016  \n",
       "\n",
       "[5 rows x 54 columns]"
      ]
     },
     "execution_count": 68,
     "metadata": {},
     "output_type": "execute_result"
    }
   ],
   "source": [
    "scaler=StandardScaler()\n",
    "\n",
    "scaler.fit(gold_train[numeric])\n",
    "gold_train[numeric]=scaler.transform(gold_train[numeric])\n",
    "gold_train.head()"
   ]
  },
  {
   "cell_type": "markdown",
   "metadata": {},
   "source": [
    "Realizamos el escalamiento en gold_test."
   ]
  },
  {
   "cell_type": "code",
   "execution_count": 69,
   "metadata": {
    "scrolled": true
   },
   "outputs": [
    {
     "data": {
      "text/html": [
       "<div>\n",
       "<style scoped>\n",
       "    .dataframe tbody tr th:only-of-type {\n",
       "        vertical-align: middle;\n",
       "    }\n",
       "\n",
       "    .dataframe tbody tr th {\n",
       "        vertical-align: top;\n",
       "    }\n",
       "\n",
       "    .dataframe thead th {\n",
       "        text-align: right;\n",
       "    }\n",
       "</style>\n",
       "<table border=\"1\" class=\"dataframe\">\n",
       "  <thead>\n",
       "    <tr style=\"text-align: right;\">\n",
       "      <th></th>\n",
       "      <th>primary_cleaner.input.sulfate</th>\n",
       "      <th>primary_cleaner.input.depressant</th>\n",
       "      <th>primary_cleaner.input.feed_size</th>\n",
       "      <th>primary_cleaner.input.xanthate</th>\n",
       "      <th>primary_cleaner.state.floatbank8_a_air</th>\n",
       "      <th>primary_cleaner.state.floatbank8_a_level</th>\n",
       "      <th>primary_cleaner.state.floatbank8_b_air</th>\n",
       "      <th>primary_cleaner.state.floatbank8_b_level</th>\n",
       "      <th>primary_cleaner.state.floatbank8_c_air</th>\n",
       "      <th>primary_cleaner.state.floatbank8_c_level</th>\n",
       "      <th>...</th>\n",
       "      <th>secondary_cleaner.state.floatbank4_b_air</th>\n",
       "      <th>secondary_cleaner.state.floatbank4_b_level</th>\n",
       "      <th>secondary_cleaner.state.floatbank5_a_air</th>\n",
       "      <th>secondary_cleaner.state.floatbank5_a_level</th>\n",
       "      <th>secondary_cleaner.state.floatbank5_b_air</th>\n",
       "      <th>secondary_cleaner.state.floatbank5_b_level</th>\n",
       "      <th>secondary_cleaner.state.floatbank6_a_air</th>\n",
       "      <th>secondary_cleaner.state.floatbank6_a_level</th>\n",
       "      <th>rougher.output.recovery</th>\n",
       "      <th>final.output.recovery</th>\n",
       "    </tr>\n",
       "  </thead>\n",
       "  <tbody>\n",
       "    <tr>\n",
       "      <th>0</th>\n",
       "      <td>0.836516</td>\n",
       "      <td>2.077780</td>\n",
       "      <td>1.334460</td>\n",
       "      <td>-0.602722</td>\n",
       "      <td>-1.268261</td>\n",
       "      <td>-0.135670</td>\n",
       "      <td>-1.246938</td>\n",
       "      <td>0.000331</td>\n",
       "      <td>-1.101158</td>\n",
       "      <td>-0.114207</td>\n",
       "      <td>...</td>\n",
       "      <td>-1.685180</td>\n",
       "      <td>-0.449936</td>\n",
       "      <td>-1.619895</td>\n",
       "      <td>4.202391</td>\n",
       "      <td>-1.761313</td>\n",
       "      <td>-0.133831</td>\n",
       "      <td>2.069979</td>\n",
       "      <td>0.049904</td>\n",
       "      <td>89.993421</td>\n",
       "      <td>70.273583</td>\n",
       "    </tr>\n",
       "    <tr>\n",
       "      <th>1</th>\n",
       "      <td>0.946387</td>\n",
       "      <td>2.075911</td>\n",
       "      <td>1.334460</td>\n",
       "      <td>-0.625430</td>\n",
       "      <td>-1.270090</td>\n",
       "      <td>-0.126390</td>\n",
       "      <td>-1.256189</td>\n",
       "      <td>0.005074</td>\n",
       "      <td>-1.134888</td>\n",
       "      <td>-0.041976</td>\n",
       "      <td>...</td>\n",
       "      <td>-1.651613</td>\n",
       "      <td>-0.430190</td>\n",
       "      <td>-1.616015</td>\n",
       "      <td>-1.509690</td>\n",
       "      <td>-1.759096</td>\n",
       "      <td>-0.137529</td>\n",
       "      <td>1.696840</td>\n",
       "      <td>0.047058</td>\n",
       "      <td>88.089657</td>\n",
       "      <td>68.910432</td>\n",
       "    </tr>\n",
       "    <tr>\n",
       "      <th>2</th>\n",
       "      <td>0.943216</td>\n",
       "      <td>1.380135</td>\n",
       "      <td>0.850275</td>\n",
       "      <td>-0.616732</td>\n",
       "      <td>-1.272647</td>\n",
       "      <td>-0.171146</td>\n",
       "      <td>-1.249353</td>\n",
       "      <td>0.005532</td>\n",
       "      <td>-1.118461</td>\n",
       "      <td>-0.185597</td>\n",
       "      <td>...</td>\n",
       "      <td>-1.661621</td>\n",
       "      <td>-0.444427</td>\n",
       "      <td>-1.578638</td>\n",
       "      <td>0.019568</td>\n",
       "      <td>-1.749906</td>\n",
       "      <td>-0.127647</td>\n",
       "      <td>1.691290</td>\n",
       "      <td>0.026285</td>\n",
       "      <td>88.412756</td>\n",
       "      <td>68.143213</td>\n",
       "    </tr>\n",
       "    <tr>\n",
       "      <th>3</th>\n",
       "      <td>0.945042</td>\n",
       "      <td>1.089542</td>\n",
       "      <td>0.608182</td>\n",
       "      <td>-0.823538</td>\n",
       "      <td>-1.262532</td>\n",
       "      <td>-0.060499</td>\n",
       "      <td>-1.261412</td>\n",
       "      <td>0.024078</td>\n",
       "      <td>-1.100934</td>\n",
       "      <td>0.001647</td>\n",
       "      <td>...</td>\n",
       "      <td>-1.668065</td>\n",
       "      <td>-0.428283</td>\n",
       "      <td>-1.636291</td>\n",
       "      <td>0.015485</td>\n",
       "      <td>-1.740716</td>\n",
       "      <td>-0.131646</td>\n",
       "      <td>1.681121</td>\n",
       "      <td>0.075755</td>\n",
       "      <td>87.360133</td>\n",
       "      <td>67.776393</td>\n",
       "    </tr>\n",
       "    <tr>\n",
       "      <th>4</th>\n",
       "      <td>0.556509</td>\n",
       "      <td>0.651310</td>\n",
       "      <td>0.426613</td>\n",
       "      <td>-0.913950</td>\n",
       "      <td>-1.247690</td>\n",
       "      <td>-0.167832</td>\n",
       "      <td>-1.255565</td>\n",
       "      <td>0.014243</td>\n",
       "      <td>-1.083498</td>\n",
       "      <td>-0.119448</td>\n",
       "      <td>...</td>\n",
       "      <td>-1.674016</td>\n",
       "      <td>-0.439297</td>\n",
       "      <td>-1.566431</td>\n",
       "      <td>-0.513337</td>\n",
       "      <td>-1.731526</td>\n",
       "      <td>-0.143379</td>\n",
       "      <td>1.693164</td>\n",
       "      <td>0.020239</td>\n",
       "      <td>83.236367</td>\n",
       "      <td>61.467078</td>\n",
       "    </tr>\n",
       "  </tbody>\n",
       "</table>\n",
       "<p>5 rows × 54 columns</p>\n",
       "</div>"
      ],
      "text/plain": [
       "   primary_cleaner.input.sulfate  primary_cleaner.input.depressant  \\\n",
       "0                       0.836516                          2.077780   \n",
       "1                       0.946387                          2.075911   \n",
       "2                       0.943216                          1.380135   \n",
       "3                       0.945042                          1.089542   \n",
       "4                       0.556509                          0.651310   \n",
       "\n",
       "   primary_cleaner.input.feed_size  primary_cleaner.input.xanthate  \\\n",
       "0                         1.334460                       -0.602722   \n",
       "1                         1.334460                       -0.625430   \n",
       "2                         0.850275                       -0.616732   \n",
       "3                         0.608182                       -0.823538   \n",
       "4                         0.426613                       -0.913950   \n",
       "\n",
       "   primary_cleaner.state.floatbank8_a_air  \\\n",
       "0                               -1.268261   \n",
       "1                               -1.270090   \n",
       "2                               -1.272647   \n",
       "3                               -1.262532   \n",
       "4                               -1.247690   \n",
       "\n",
       "   primary_cleaner.state.floatbank8_a_level  \\\n",
       "0                                 -0.135670   \n",
       "1                                 -0.126390   \n",
       "2                                 -0.171146   \n",
       "3                                 -0.060499   \n",
       "4                                 -0.167832   \n",
       "\n",
       "   primary_cleaner.state.floatbank8_b_air  \\\n",
       "0                               -1.246938   \n",
       "1                               -1.256189   \n",
       "2                               -1.249353   \n",
       "3                               -1.261412   \n",
       "4                               -1.255565   \n",
       "\n",
       "   primary_cleaner.state.floatbank8_b_level  \\\n",
       "0                                  0.000331   \n",
       "1                                  0.005074   \n",
       "2                                  0.005532   \n",
       "3                                  0.024078   \n",
       "4                                  0.014243   \n",
       "\n",
       "   primary_cleaner.state.floatbank8_c_air  \\\n",
       "0                               -1.101158   \n",
       "1                               -1.134888   \n",
       "2                               -1.118461   \n",
       "3                               -1.100934   \n",
       "4                               -1.083498   \n",
       "\n",
       "   primary_cleaner.state.floatbank8_c_level  ...  \\\n",
       "0                                 -0.114207  ...   \n",
       "1                                 -0.041976  ...   \n",
       "2                                 -0.185597  ...   \n",
       "3                                  0.001647  ...   \n",
       "4                                 -0.119448  ...   \n",
       "\n",
       "   secondary_cleaner.state.floatbank4_b_air  \\\n",
       "0                                 -1.685180   \n",
       "1                                 -1.651613   \n",
       "2                                 -1.661621   \n",
       "3                                 -1.668065   \n",
       "4                                 -1.674016   \n",
       "\n",
       "   secondary_cleaner.state.floatbank4_b_level  \\\n",
       "0                                   -0.449936   \n",
       "1                                   -0.430190   \n",
       "2                                   -0.444427   \n",
       "3                                   -0.428283   \n",
       "4                                   -0.439297   \n",
       "\n",
       "   secondary_cleaner.state.floatbank5_a_air  \\\n",
       "0                                 -1.619895   \n",
       "1                                 -1.616015   \n",
       "2                                 -1.578638   \n",
       "3                                 -1.636291   \n",
       "4                                 -1.566431   \n",
       "\n",
       "   secondary_cleaner.state.floatbank5_a_level  \\\n",
       "0                                    4.202391   \n",
       "1                                   -1.509690   \n",
       "2                                    0.019568   \n",
       "3                                    0.015485   \n",
       "4                                   -0.513337   \n",
       "\n",
       "   secondary_cleaner.state.floatbank5_b_air  \\\n",
       "0                                 -1.761313   \n",
       "1                                 -1.759096   \n",
       "2                                 -1.749906   \n",
       "3                                 -1.740716   \n",
       "4                                 -1.731526   \n",
       "\n",
       "   secondary_cleaner.state.floatbank5_b_level  \\\n",
       "0                                   -0.133831   \n",
       "1                                   -0.137529   \n",
       "2                                   -0.127647   \n",
       "3                                   -0.131646   \n",
       "4                                   -0.143379   \n",
       "\n",
       "   secondary_cleaner.state.floatbank6_a_air  \\\n",
       "0                                  2.069979   \n",
       "1                                  1.696840   \n",
       "2                                  1.691290   \n",
       "3                                  1.681121   \n",
       "4                                  1.693164   \n",
       "\n",
       "   secondary_cleaner.state.floatbank6_a_level  rougher.output.recovery  \\\n",
       "0                                    0.049904                89.993421   \n",
       "1                                    0.047058                88.089657   \n",
       "2                                    0.026285                88.412756   \n",
       "3                                    0.075755                87.360133   \n",
       "4                                    0.020239                83.236367   \n",
       "\n",
       "   final.output.recovery  \n",
       "0              70.273583  \n",
       "1              68.910432  \n",
       "2              68.143213  \n",
       "3              67.776393  \n",
       "4              61.467078  \n",
       "\n",
       "[5 rows x 54 columns]"
      ]
     },
     "execution_count": 69,
     "metadata": {},
     "output_type": "execute_result"
    }
   ],
   "source": [
    "scaler=StandardScaler()\n",
    "\n",
    "scaler.fit(gold_test[numeric])\n",
    "gold_test[numeric]=scaler.transform(gold_test[numeric])\n",
    "gold_test.head()"
   ]
  },
  {
   "cell_type": "markdown",
   "metadata": {},
   "source": [
    "Dividimos gold_train en conjuntos de entrenamiento y de validación."
   ]
  },
  {
   "cell_type": "code",
   "execution_count": 70,
   "metadata": {},
   "outputs": [],
   "source": [
    "features_train=gold_train.drop(['rougher.output.recovery','final.output.recovery'],axis=1)\n",
    "target_train=gold_train[['rougher.output.recovery','final.output.recovery']]"
   ]
  },
  {
   "cell_type": "code",
   "execution_count": 71,
   "metadata": {},
   "outputs": [],
   "source": [
    "features_train, features_valid, target_train, target_valid = train_test_split(features_train,target_train,test_size=0.25,random_state=54321)"
   ]
  },
  {
   "cell_type": "code",
   "execution_count": 72,
   "metadata": {},
   "outputs": [],
   "source": [
    "features_test=gold_test.drop(['rougher.output.recovery','final.output.recovery'],axis=1)\n",
    "target_test=gold_test[['rougher.output.recovery','final.output.recovery']]"
   ]
  },
  {
   "cell_type": "code",
   "execution_count": 73,
   "metadata": {},
   "outputs": [
    {
     "data": {
      "text/plain": [
       "((8083, 2), (2695, 2), (5229, 2))"
      ]
     },
     "execution_count": 73,
     "metadata": {},
     "output_type": "execute_result"
    }
   ],
   "source": [
    "target_train.shape, target_valid.shape, target_test.shape"
   ]
  },
  {
   "cell_type": "markdown",
   "metadata": {},
   "source": [
    " ###  Regresión lineal"
   ]
  },
  {
   "cell_type": "markdown",
   "metadata": {},
   "source": [
    "Realizamos el entrenamiento y comprobamos en conjunto de validación."
   ]
  },
  {
   "cell_type": "code",
   "execution_count": 74,
   "metadata": {},
   "outputs": [],
   "source": [
    "model_reg_lin = LinearRegression() \n",
    "model_reg_lin.fit(features_train,target_train['rougher.output.recovery']) \n",
    "predictions_valid_rougher = model_reg_lin.predict(features_valid)\n",
    "\n",
    "model_reg_lin = LinearRegression() \n",
    "model_reg_lin.fit(features_train,target_train['final.output.recovery']) \n",
    "predictions_valid_final = model_reg_lin.predict(features_valid)"
   ]
  },
  {
   "cell_type": "code",
   "execution_count": 75,
   "metadata": {},
   "outputs": [
    {
     "name": "stdout",
     "output_type": "stream",
     "text": [
      "SMAPE final en regresión lineal en conjunto de validación: 0.00330952159792731\n"
     ]
    }
   ],
   "source": [
    "smape_reg=calculate_smape(target_valid['rougher.output.recovery'],predictions_valid_rougher)+0.75*calculate_smape(target_valid['final.output.recovery'],predictions_valid_final)\n",
    "print('SMAPE final en regresión lineal en conjunto de validación:',smape_reg)"
   ]
  },
  {
   "cell_type": "markdown",
   "metadata": {},
   "source": [
    "En conjunto de prueba."
   ]
  },
  {
   "cell_type": "code",
   "execution_count": 76,
   "metadata": {},
   "outputs": [],
   "source": [
    "model_reg_lin = LinearRegression() \n",
    "model_reg_lin.fit(features_train,target_train['rougher.output.recovery']) \n",
    "predictions_test_rougher = model_reg_lin.predict(features_test)\n",
    "\n",
    "model_reg_lin = LinearRegression() \n",
    "model_reg_lin.fit(features_train,target_train['final.output.recovery']) \n",
    "predictions_test_final = model_reg_lin.predict(features_test)"
   ]
  },
  {
   "cell_type": "code",
   "execution_count": 77,
   "metadata": {
    "scrolled": true
   },
   "outputs": [
    {
     "name": "stdout",
     "output_type": "stream",
     "text": [
      "SMAPE final en regresión lineal en conjunto de prueba: 0.0025912998424980583\n"
     ]
    }
   ],
   "source": [
    "smape_reg=calculate_smape(target_test['rougher.output.recovery'],predictions_test_rougher)+0.75*calculate_smape(target_test['final.output.recovery'],predictions_test_final)\n",
    "print('SMAPE final en regresión lineal en conjunto de prueba:',smape_reg)"
   ]
  },
  {
   "cell_type": "code",
   "execution_count": 78,
   "metadata": {},
   "outputs": [
    {
     "name": "stdout",
     "output_type": "stream",
     "text": [
      "EAM de rougher.output.recovery: 5.800793635728255\n",
      "EAM de final.output.recovery: 6.06205211122318\n"
     ]
    }
   ],
   "source": [
    "print('EAM de rougher.output.recovery:',mean_absolute_error(target_test['rougher.output.recovery'],predictions_test_rougher))\n",
    "print('EAM de final.output.recovery:',mean_absolute_error(target_test['final.output.recovery'],predictions_test_final))"
   ]
  },
  {
   "cell_type": "markdown",
   "metadata": {},
   "source": [
    "Elaboramos un gráfico de dispersion de la predicción vs el valor real. Mientras más cercano horizontalmente se encuentre el valor a la diagonal, la predicción es más certera."
   ]
  },
  {
   "cell_type": "code",
   "execution_count": 79,
   "metadata": {
    "scrolled": true
   },
   "outputs": [
    {
     "data": {
      "image/png": "[encoded data removed]",
      "text/plain": [
       "<Figure size 432x288 with 1 Axes>"
      ]
     },
     "metadata": {
      "needs_background": "light"
     },
     "output_type": "display_data"
    },
    {
     "data": {
      "image/png": "[encoded data removed]",
      "text/plain": [
       "<Figure size 432x288 with 1 Axes>"
      ]
     },
     "metadata": {
      "needs_background": "light"
     },
     "output_type": "display_data"
    }
   ],
   "source": [
    "#ROUGHER OUTPUT RECOVERY\n",
    "x1 = predictions_test_rougher\n",
    "y1 = target_test['rougher.output.recovery']\n",
    "plt.scatter(x1, y1, c = \"red\", label = \"Predicción\")\n",
    "\n",
    "x2 = target_test['rougher.output.recovery']\n",
    "y2 = target_test['rougher.output.recovery']\n",
    "plt.scatter(x2, y2, c = \"blue\", label = \"Valor real\")\n",
    "\n",
    "plt.title('rougher.output.recovery')\n",
    "plt.legend()\n",
    "plt.show()\n",
    "\n",
    "\n",
    "#FINAL OUTPUT RECOVERY\n",
    "x1 = predictions_test_final\n",
    "y1 = target_test['final.output.recovery']\n",
    "\n",
    "plt.scatter(x1, y1, c = \"red\", label = \"Predicción\")\n",
    "\n",
    "# Datos 2\n",
    "x2 = target_test['final.output.recovery']\n",
    "y2 = target_test['final.output.recovery']\n",
    "\n",
    "plt.scatter(x2, y2, c = \"blue\", label = \"Valor real\")\n",
    "\n",
    "# Leyenda\n",
    "plt.title('Final.output.recovery')\n",
    "plt.legend()\n",
    "plt.show()"
   ]
  },
  {
   "cell_type": "markdown",
   "metadata": {},
   "source": [
    "El valor de sMAPE final es de 0.0025. El valor de EAM de la predicción del concentrado rougher es 5.8, mientras que del concentrado final es 6.062. El gráfico nos indica una media superior en el valor del concentrado rougher."
   ]
  },
  {
   "cell_type": "markdown",
   "metadata": {},
   "source": [
    "### Árbol de decisiones"
   ]
  },
  {
   "cell_type": "markdown",
   "metadata": {},
   "source": [
    "Realizamos el entrenamiento y comprobamos en conjunto de validación."
   ]
  },
  {
   "cell_type": "code",
   "execution_count": 80,
   "metadata": {},
   "outputs": [
    {
     "name": "stdout",
     "output_type": "stream",
     "text": [
      "SMAPE del mejor modelo en el conjunto de validación (best depth = 11): 0.002721256143829947\n"
     ]
    }
   ],
   "source": [
    "best_score=10000\n",
    "best_depth=0\n",
    "\n",
    "for depth in range(1,21):\n",
    "    model_tree = DecisionTreeRegressor(random_state=12345,max_depth=depth) \n",
    "    model_tree.fit(features_train,target_train['rougher.output.recovery'])\n",
    "    predictions_valid_rougher = model_tree.predict(features_valid)\n",
    "                                       \n",
    "    model_tree = DecisionTreeRegressor(random_state=12345,max_depth=depth)\n",
    "    model_tree.fit(features_train,target_train['final.output.recovery']) \n",
    "    predictions_valid_final = model_tree.predict(features_valid)\n",
    " \n",
    "    smape_tree=calculate_smape(target_valid['rougher.output.recovery'],predictions_valid_rougher)+0.75*calculate_smape(target_valid['final.output.recovery'],predictions_valid_final)\n",
    "\n",
    "    if smape_tree < best_score:\n",
    "        best_score = smape_tree\n",
    "        best_depth = depth   \n",
    "    \n",
    "print(\"SMAPE del mejor modelo en el conjunto de validación (best depth = {}): {}\".format(best_depth, best_score))"
   ]
  },
  {
   "cell_type": "markdown",
   "metadata": {},
   "source": [
    "En conjunto de prueba."
   ]
  },
  {
   "cell_type": "code",
   "execution_count": 81,
   "metadata": {},
   "outputs": [],
   "source": [
    "model_tree = DecisionTreeRegressor(random_state=12345,max_depth=13) \n",
    "model_tree.fit(features_train,target_train['rougher.output.recovery'])\n",
    "predictions_test_rougher = model_tree.predict(features_test)\n",
    "\n",
    "model_tree = DecisionTreeRegressor(random_state=12345,max_depth=13)\n",
    "model_tree.fit(features_train,target_train['final.output.recovery']) \n",
    "predictions_test_final = model_tree.predict(features_test)"
   ]
  },
  {
   "cell_type": "code",
   "execution_count": 82,
   "metadata": {},
   "outputs": [
    {
     "name": "stdout",
     "output_type": "stream",
     "text": [
      "SMAPE final en árbol de decisión: 0.0037405769864832434\n"
     ]
    }
   ],
   "source": [
    "smape_tree=calculate_smape(target_test['rougher.output.recovery'],predictions_test_rougher)+0.75*calculate_smape(target_test['final.output.recovery'],predictions_test_final)\n",
    "print('SMAPE final en árbol de decisión:',smape_tree)"
   ]
  },
  {
   "cell_type": "code",
   "execution_count": 83,
   "metadata": {},
   "outputs": [
    {
     "name": "stdout",
     "output_type": "stream",
     "text": [
      "EAM de rougher.output.recovery: 7.579410785132516\n",
      "EAM de final.output.recovery: 9.675047845492461\n"
     ]
    }
   ],
   "source": [
    "print('EAM de rougher.output.recovery:',mean_absolute_error(target_test['rougher.output.recovery'],predictions_test_rougher))\n",
    "print('EAM de final.output.recovery:',mean_absolute_error(target_test['final.output.recovery'],predictions_test_final))"
   ]
  },
  {
   "cell_type": "markdown",
   "metadata": {},
   "source": [
    "Elaboramos un gráfico de dispersion de la predicción vs el valor real. Mientras más cercano horizontalmente se encuentre el valor a la diagonal, la predicción es más certera."
   ]
  },
  {
   "cell_type": "code",
   "execution_count": 84,
   "metadata": {},
   "outputs": [
    {
     "data": {
      "image/png": "[encoded data removed]",
      "text/plain": [
       "<Figure size 432x288 with 1 Axes>"
      ]
     },
     "metadata": {
      "needs_background": "light"
     },
     "output_type": "display_data"
    },
    {
     "data": {
      "image/png": "[encoded data removed]",
      "text/plain": [
       "<Figure size 432x288 with 1 Axes>"
      ]
     },
     "metadata": {
      "needs_background": "light"
     },
     "output_type": "display_data"
    }
   ],
   "source": [
    "#ROUGHER OUTPUT RECOVERY\n",
    "x1 = predictions_test_rougher\n",
    "y1 = target_test['rougher.output.recovery']\n",
    "plt.scatter(x1, y1, c = \"red\", label = \"Predicción\")\n",
    "\n",
    "x2 = target_test['rougher.output.recovery']\n",
    "y2 = target_test['rougher.output.recovery']\n",
    "plt.scatter(x2, y2, c = \"blue\", label = \"Valor real\")\n",
    "\n",
    "plt.title('rougher.output.recovery')\n",
    "plt.legend()\n",
    "plt.show()\n",
    "\n",
    "\n",
    "#FINAL OUTPUT RECOVERY\n",
    "x1 = predictions_test_final\n",
    "y1 = target_test['final.output.recovery']\n",
    "\n",
    "plt.scatter(x1, y1, c = \"red\", label = \"Predicción\")\n",
    "\n",
    "# Datos 2\n",
    "x2 = target_test['final.output.recovery']\n",
    "y2 = target_test['final.output.recovery']\n",
    "\n",
    "plt.scatter(x2, y2, c = \"blue\", label = \"Valor real\")\n",
    "\n",
    "# Leyenda\n",
    "plt.title('Final.output.recovery')\n",
    "plt.legend()\n",
    "plt.show()"
   ]
  },
  {
   "cell_type": "markdown",
   "metadata": {},
   "source": [
    "El valor de sMAPE final es de 0.0037. El valor de EAM de la predicción del concentrado rougher es 7.57, mientras que del concentrado final es 9.67. El gráfico nos indica una media superior en el valor del concentrado rougher; sin embargo, nos indica también una variación muy amplia horizontalmente."
   ]
  },
  {
   "cell_type": "markdown",
   "metadata": {},
   "source": [
    "###  Bosque aleatorio"
   ]
  },
  {
   "cell_type": "markdown",
   "metadata": {},
   "source": [
    "Realizamos el entrenamiento y comprobamos en conjunto de validación."
   ]
  },
  {
   "cell_type": "code",
   "execution_count": 85,
   "metadata": {},
   "outputs": [
    {
     "name": "stdout",
     "output_type": "stream",
     "text": [
      "SMAPE del mejor modelo en el conjunto de validación: 0.0024006873860121336 n_estimators: 30 best_depth: 10\n"
     ]
    }
   ],
   "source": [
    "best_model = None\n",
    "best_score = 10000\n",
    "best_est = 0\n",
    "best_depth = 0\n",
    "for est in range(10, 31, 5):\n",
    "    for depth in range (1, 11):\n",
    "        model_forest = RandomForestRegressor(random_state=12345,n_estimators=est,max_depth=depth)\n",
    "        model_forest.fit(features_train,target_train['rougher.output.recovery']) \n",
    "        predictions_valid_rougher = model_forest.predict(features_valid)\n",
    "        \n",
    "        model_forest = RandomForestRegressor(random_state=12345,n_estimators=est,max_depth=depth)\n",
    "        model_forest.fit(features_train,target_train['final.output.recovery']) \n",
    "        predictions_valid_final = model_forest.predict(features_valid)\n",
    "        \n",
    "        smape_tree=calculate_smape(target_valid['rougher.output.recovery'],predictions_valid_rougher)+0.75*calculate_smape(target_valid['final.output.recovery'],predictions_valid_final)\n",
    "\n",
    "        if smape_tree < best_score:\n",
    "            best_model = model_forest\n",
    "            best_score = smape_tree\n",
    "            best_est = est\n",
    "            best_depth = depth\n",
    "\n",
    "print(\"SMAPE del mejor modelo en el conjunto de validación:\", best_score, \"n_estimators:\", best_est, \"best_depth:\", depth)"
   ]
  },
  {
   "cell_type": "markdown",
   "metadata": {},
   "source": [
    "Mejor n_estimators=30, bes_depth =10"
   ]
  },
  {
   "cell_type": "code",
   "execution_count": 86,
   "metadata": {},
   "outputs": [
    {
     "name": "stdout",
     "output_type": "stream",
     "text": [
      "SMAPE final en bosque aleatorio: 0.002679725868036046\n"
     ]
    }
   ],
   "source": [
    "model_forest = RandomForestRegressor(random_state=12345,n_estimators=30,max_depth=10)\n",
    "model_forest.fit(features_train,target_train['rougher.output.recovery']) \n",
    "predictions_test_rougher = model_forest.predict(features_test)\n",
    "\n",
    "model_forest = RandomForestRegressor(random_state=12345,n_estimators=est,max_depth=depth)\n",
    "model_forest.fit(features_train,target_train['final.output.recovery']) \n",
    "predictions_test_final = model_forest.predict(features_test)\n",
    "\n",
    "smape_tree=calculate_smape(target_test['rougher.output.recovery'],predictions_test_rougher)+0.75*calculate_smape(target_test['final.output.recovery'],predictions_test_final)\n",
    "print(\"SMAPE final en bosque aleatorio:\", smape_tree)"
   ]
  },
  {
   "cell_type": "code",
   "execution_count": 87,
   "metadata": {},
   "outputs": [
    {
     "name": "stdout",
     "output_type": "stream",
     "text": [
      "EAM de rougher.output.recovery: 6.194582987859272\n",
      "EAM de final.output.recovery: 6.065207797027044\n"
     ]
    }
   ],
   "source": [
    "print('EAM de rougher.output.recovery:',mean_absolute_error(target_test['rougher.output.recovery'],predictions_test_rougher))\n",
    "print('EAM de final.output.recovery:',mean_absolute_error(target_test['final.output.recovery'],predictions_test_final))"
   ]
  },
  {
   "cell_type": "markdown",
   "metadata": {},
   "source": [
    "Elaboramos un gráfico de dispersion de la predicción vs el valor real. Mientras más cercano horizontalmente se encuentre el valor a la diagonal, la predicción es más certera."
   ]
  },
  {
   "cell_type": "code",
   "execution_count": 88,
   "metadata": {},
   "outputs": [
    {
     "data": {
      "image/png": "[encoded data removed]",
      "text/plain": [
       "<Figure size 432x288 with 1 Axes>"
      ]
     },
     "metadata": {
      "needs_background": "light"
     },
     "output_type": "display_data"
    },
    {
     "data": {
      "image/png": "[encoded data removed]",
      "text/plain": [
       "<Figure size 432x288 with 1 Axes>"
      ]
     },
     "metadata": {
      "needs_background": "light"
     },
     "output_type": "display_data"
    }
   ],
   "source": [
    "#ROUGHER OUTPUT RECOVERY\n",
    "x1 = predictions_test_rougher\n",
    "y1 = target_test['rougher.output.recovery']\n",
    "plt.scatter(x1, y1, c = \"red\", label = \"Predicción\")\n",
    "\n",
    "x2 = target_test['rougher.output.recovery']\n",
    "y2 = target_test['rougher.output.recovery']\n",
    "plt.scatter(x2, y2, c = \"blue\", label = \"Valor real\")\n",
    "\n",
    "plt.title('rougher.output.recovery')\n",
    "plt.legend()\n",
    "plt.show()\n",
    "\n",
    "\n",
    "#FINAL OUTPUT RECOVERY\n",
    "x1 = predictions_test_final\n",
    "y1 = target_test['final.output.recovery']\n",
    "\n",
    "plt.scatter(x1, y1, c = \"red\", label = \"Predicción\")\n",
    "\n",
    "# Datos 2\n",
    "x2 = target_test['final.output.recovery']\n",
    "y2 = target_test['final.output.recovery']\n",
    "\n",
    "plt.scatter(x2, y2, c = \"blue\", label = \"Valor real\")\n",
    "\n",
    "# Leyenda\n",
    "plt.title('Final.output.recovery')\n",
    "plt.legend()\n",
    "plt.show()"
   ]
  },
  {
   "cell_type": "markdown",
   "metadata": {},
   "source": [
    "El valor de sMAPE final es de 0.0026. El valor de EAM de la predicción del concentrado rougher es 6.19, mientras que del concentrado final es 6.065. El gráfico nos indica una media superior en el valor del concentrado rougher."
   ]
  },
  {
   "cell_type": "markdown",
   "metadata": {},
   "source": [
    "## Conclusiones"
   ]
  },
  {
   "cell_type": "markdown",
   "metadata": {},
   "source": [
    "- Se observó que la concentración de Oro en la solución creció de forma lineal en las 3 etapas del proceso.\n",
    "- De acuerdo con los valores sMAPE finales, el modelo más preciso es la regresión lineal, seguido del bosque aleatorio. Los tres modelos obtuvieron valores muy cercanos a 0.\n",
    "- El modelo que generó un mejor valor del Error Absoluto Medio fue regresión lineal, seguido del bosque aleatorio.\n",
    "- En general, se realizaron predicciones más precisas para el concentrado rougher en comparación con la concentración final.\n",
    "- Según lo observado en el gráfico de dispersión, el árbol de decisiones mostró una dispersión muy amplia con respecto a la diagonal. El modelo de regresión lineal brindó una dispersión de puntos menor.\n",
    "- El modelo más preciso es la regresión lineal, teniendo en cuenta los valores de sMAPE final, EAM y el gráfico de dispersión."
   ]
  }
 ],
 "metadata": {
  "kernelspec": {
   "display_name": "Python 3 (ipykernel)",
   "language": "python",
   "name": "python3"
  },
  "language_info": {
   "codemirror_mode": {
    "name": "ipython",
    "version": 3
   },
   "file_extension": ".py",
   "mimetype": "text/x-python",
   "name": "python",
   "nbconvert_exporter": "python",
   "pygments_lexer": "ipython3",
   "version": "3.9.5"
  },
  "toc": {
   "base_numbering": 1,
   "nav_menu": {},
   "number_sections": true,
   "sideBar": true,
   "skip_h1_title": true,
   "title_cell": "Table of Contents",
   "title_sidebar": "Contents",
   "toc_cell": false,
   "toc_position": {
    "height": "calc(100% - 180px)",
    "left": "10px",
    "top": "150px",
    "width": "290.417px"
   },
   "toc_section_display": true,
   "toc_window_display": true
  }
 },
 "nbformat": 4,
 "nbformat_minor": 2
}
